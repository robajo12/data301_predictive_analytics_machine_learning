{
  "nbformat": 4,
  "nbformat_minor": 0,
  "metadata": {
    "colab": {
      "name": "Data301_ML_Mid_Term_Test_Ayo.ipynb",
      "provenance": [],
      "collapsed_sections": [],
      "include_colab_link": true
    },
    "kernelspec": {
      "name": "python3",
      "display_name": "Python 3"
    },
    "language_info": {
      "name": "python"
    }
  },
  "cells": [
    {
      "cell_type": "markdown",
      "metadata": {
        "id": "view-in-github",
        "colab_type": "text"
      },
      "source": [
        "<a href=\"https://colab.research.google.com/github/robajo12/data301_predictive_analytics_machine_learning/blob/main/Data301_ML_Mid_Term_Test_Ayo.ipynb\" target=\"_parent\"><img src=\"https://colab.research.google.com/assets/colab-badge.svg\" alt=\"Open In Colab\"/></a>"
      ]
    },
    {
      "cell_type": "markdown",
      "metadata": {
        "id": "qPBlMYftqUmQ"
      },
      "source": [
        "# Dataset background"
      ]
    },
    {
      "cell_type": "markdown",
      "metadata": {
        "id": "xPXqBWDZqk96"
      },
      "source": [
        "This data sets consists of 3 different types of irises’ (Setosa, Versicolour, and Virginica) petal and sepal length, stored in a 150x4 numpy.ndarray\n",
        "\n",
        "The rows being the samples and the columns being: Sepal Length, Sepal Width, Petal Length and Petal Width."
      ]
    },
    {
      "cell_type": "markdown",
      "metadata": {
        "id": "fMHRanxerqdx"
      },
      "source": [
        "# Data Acquisition"
      ]
    },
    {
      "cell_type": "code",
      "metadata": {
        "id": "movlMxgEIJyj"
      },
      "source": [
        "from sklearn.datasets import load_iris"
      ],
      "execution_count": 488,
      "outputs": []
    },
    {
      "cell_type": "code",
      "metadata": {
        "id": "He8bQEvzIws4"
      },
      "source": [
        "iris_data = load_iris()\n"
      ],
      "execution_count": 489,
      "outputs": []
    },
    {
      "cell_type": "code",
      "metadata": {
        "colab": {
          "base_uri": "https://localhost:8080/"
        },
        "id": "m5laMl_rsPXi",
        "outputId": "0d16a7c1-e308-4fc2-9e05-abd6d1304ad1"
      },
      "source": [
        "print(iris_data.DESCR)"
      ],
      "execution_count": 490,
      "outputs": [
        {
          "output_type": "stream",
          "name": "stdout",
          "text": [
            ".. _iris_dataset:\n",
            "\n",
            "Iris plants dataset\n",
            "--------------------\n",
            "\n",
            "**Data Set Characteristics:**\n",
            "\n",
            "    :Number of Instances: 150 (50 in each of three classes)\n",
            "    :Number of Attributes: 4 numeric, predictive attributes and the class\n",
            "    :Attribute Information:\n",
            "        - sepal length in cm\n",
            "        - sepal width in cm\n",
            "        - petal length in cm\n",
            "        - petal width in cm\n",
            "        - class:\n",
            "                - Iris-Setosa\n",
            "                - Iris-Versicolour\n",
            "                - Iris-Virginica\n",
            "                \n",
            "    :Summary Statistics:\n",
            "\n",
            "    ============== ==== ==== ======= ===== ====================\n",
            "                    Min  Max   Mean    SD   Class Correlation\n",
            "    ============== ==== ==== ======= ===== ====================\n",
            "    sepal length:   4.3  7.9   5.84   0.83    0.7826\n",
            "    sepal width:    2.0  4.4   3.05   0.43   -0.4194\n",
            "    petal length:   1.0  6.9   3.76   1.76    0.9490  (high!)\n",
            "    petal width:    0.1  2.5   1.20   0.76    0.9565  (high!)\n",
            "    ============== ==== ==== ======= ===== ====================\n",
            "\n",
            "    :Missing Attribute Values: None\n",
            "    :Class Distribution: 33.3% for each of 3 classes.\n",
            "    :Creator: R.A. Fisher\n",
            "    :Donor: Michael Marshall (MARSHALL%PLU@io.arc.nasa.gov)\n",
            "    :Date: July, 1988\n",
            "\n",
            "The famous Iris database, first used by Sir R.A. Fisher. The dataset is taken\n",
            "from Fisher's paper. Note that it's the same as in R, but not as in the UCI\n",
            "Machine Learning Repository, which has two wrong data points.\n",
            "\n",
            "This is perhaps the best known database to be found in the\n",
            "pattern recognition literature.  Fisher's paper is a classic in the field and\n",
            "is referenced frequently to this day.  (See Duda & Hart, for example.)  The\n",
            "data set contains 3 classes of 50 instances each, where each class refers to a\n",
            "type of iris plant.  One class is linearly separable from the other 2; the\n",
            "latter are NOT linearly separable from each other.\n",
            "\n",
            ".. topic:: References\n",
            "\n",
            "   - Fisher, R.A. \"The use of multiple measurements in taxonomic problems\"\n",
            "     Annual Eugenics, 7, Part II, 179-188 (1936); also in \"Contributions to\n",
            "     Mathematical Statistics\" (John Wiley, NY, 1950).\n",
            "   - Duda, R.O., & Hart, P.E. (1973) Pattern Classification and Scene Analysis.\n",
            "     (Q327.D83) John Wiley & Sons.  ISBN 0-471-22361-1.  See page 218.\n",
            "   - Dasarathy, B.V. (1980) \"Nosing Around the Neighborhood: A New System\n",
            "     Structure and Classification Rule for Recognition in Partially Exposed\n",
            "     Environments\".  IEEE Transactions on Pattern Analysis and Machine\n",
            "     Intelligence, Vol. PAMI-2, No. 1, 67-71.\n",
            "   - Gates, G.W. (1972) \"The Reduced Nearest Neighbor Rule\".  IEEE Transactions\n",
            "     on Information Theory, May 1972, 431-433.\n",
            "   - See also: 1988 MLC Proceedings, 54-64.  Cheeseman et al\"s AUTOCLASS II\n",
            "     conceptual clustering system finds 3 classes in the data.\n",
            "   - Many, many more ...\n"
          ]
        }
      ]
    },
    {
      "cell_type": "code",
      "metadata": {
        "colab": {
          "base_uri": "https://localhost:8080/"
        },
        "id": "cauob4kpI0ij",
        "outputId": "659bc5d3-5211-4389-caea-df92eba216fb"
      },
      "source": [
        "iris_data.feature_names"
      ],
      "execution_count": 491,
      "outputs": [
        {
          "output_type": "execute_result",
          "data": {
            "text/plain": [
              "['sepal length (cm)',\n",
              " 'sepal width (cm)',\n",
              " 'petal length (cm)',\n",
              " 'petal width (cm)']"
            ]
          },
          "metadata": {},
          "execution_count": 491
        }
      ]
    },
    {
      "cell_type": "code",
      "metadata": {
        "colab": {
          "base_uri": "https://localhost:8080/"
        },
        "id": "1KUERZOAI6Xn",
        "outputId": "ff66228e-337e-4143-8922-f40494093119"
      },
      "source": [
        "iris_data.target_names"
      ],
      "execution_count": 492,
      "outputs": [
        {
          "output_type": "execute_result",
          "data": {
            "text/plain": [
              "array(['setosa', 'versicolor', 'virginica'], dtype='<U10')"
            ]
          },
          "metadata": {},
          "execution_count": 492
        }
      ]
    },
    {
      "cell_type": "markdown",
      "metadata": {
        "id": "uNe0FkJyr-Qt"
      },
      "source": [
        "# Environment Set Up"
      ]
    },
    {
      "cell_type": "code",
      "metadata": {
        "id": "qe2EqNL5JOBK"
      },
      "source": [
        "# Import all required libraries\n",
        "import pandas as pd\n",
        "import seaborn as sns\n",
        "import matplotlib.pyplot as plt"
      ],
      "execution_count": 493,
      "outputs": []
    },
    {
      "cell_type": "code",
      "metadata": {
        "id": "I0BN7IncJIae"
      },
      "source": [
        "df = pd.DataFrame(iris_data.data, columns=iris_data.feature_names)"
      ],
      "execution_count": 494,
      "outputs": []
    },
    {
      "cell_type": "code",
      "metadata": {
        "id": "7IMdHwtiIzkp"
      },
      "source": [
        ""
      ],
      "execution_count": 494,
      "outputs": []
    },
    {
      "cell_type": "code",
      "metadata": {
        "colab": {
          "base_uri": "https://localhost:8080/",
          "height": 206
        },
        "id": "b4_llsJ_JXZ9",
        "outputId": "e166501f-7f58-4a45-a25e-9ec237c5905c"
      },
      "source": [
        "df.head()"
      ],
      "execution_count": 495,
      "outputs": [
        {
          "output_type": "execute_result",
          "data": {
            "text/html": [
              "<div>\n",
              "<style scoped>\n",
              "    .dataframe tbody tr th:only-of-type {\n",
              "        vertical-align: middle;\n",
              "    }\n",
              "\n",
              "    .dataframe tbody tr th {\n",
              "        vertical-align: top;\n",
              "    }\n",
              "\n",
              "    .dataframe thead th {\n",
              "        text-align: right;\n",
              "    }\n",
              "</style>\n",
              "<table border=\"1\" class=\"dataframe\">\n",
              "  <thead>\n",
              "    <tr style=\"text-align: right;\">\n",
              "      <th></th>\n",
              "      <th>sepal length (cm)</th>\n",
              "      <th>sepal width (cm)</th>\n",
              "      <th>petal length (cm)</th>\n",
              "      <th>petal width (cm)</th>\n",
              "    </tr>\n",
              "  </thead>\n",
              "  <tbody>\n",
              "    <tr>\n",
              "      <th>0</th>\n",
              "      <td>5.1</td>\n",
              "      <td>3.5</td>\n",
              "      <td>1.4</td>\n",
              "      <td>0.2</td>\n",
              "    </tr>\n",
              "    <tr>\n",
              "      <th>1</th>\n",
              "      <td>4.9</td>\n",
              "      <td>3.0</td>\n",
              "      <td>1.4</td>\n",
              "      <td>0.2</td>\n",
              "    </tr>\n",
              "    <tr>\n",
              "      <th>2</th>\n",
              "      <td>4.7</td>\n",
              "      <td>3.2</td>\n",
              "      <td>1.3</td>\n",
              "      <td>0.2</td>\n",
              "    </tr>\n",
              "    <tr>\n",
              "      <th>3</th>\n",
              "      <td>4.6</td>\n",
              "      <td>3.1</td>\n",
              "      <td>1.5</td>\n",
              "      <td>0.2</td>\n",
              "    </tr>\n",
              "    <tr>\n",
              "      <th>4</th>\n",
              "      <td>5.0</td>\n",
              "      <td>3.6</td>\n",
              "      <td>1.4</td>\n",
              "      <td>0.2</td>\n",
              "    </tr>\n",
              "  </tbody>\n",
              "</table>\n",
              "</div>"
            ],
            "text/plain": [
              "   sepal length (cm)  sepal width (cm)  petal length (cm)  petal width (cm)\n",
              "0                5.1               3.5                1.4               0.2\n",
              "1                4.9               3.0                1.4               0.2\n",
              "2                4.7               3.2                1.3               0.2\n",
              "3                4.6               3.1                1.5               0.2\n",
              "4                5.0               3.6                1.4               0.2"
            ]
          },
          "metadata": {},
          "execution_count": 495
        }
      ]
    },
    {
      "cell_type": "markdown",
      "metadata": {
        "id": "RL4NTtEGs2R0"
      },
      "source": [
        "# EDA (Exploratory Data Analysis)"
      ]
    },
    {
      "cell_type": "markdown",
      "metadata": {
        "id": "mW7Alf7O4bNi"
      },
      "source": [
        "Only basic EDA (plots)"
      ]
    },
    {
      "cell_type": "code",
      "metadata": {
        "id": "3kMKG0iSs8qB",
        "colab": {
          "base_uri": "https://localhost:8080/",
          "height": 366
        },
        "outputId": "7ac3e716-6ba2-4197-80c0-a31dbf7cca02"
      },
      "source": [
        "#relationships analysis\n",
        "#fig, axe = plt.subplots()\n",
        "#fig.set_size_inches(11,7)\n",
        "sns.heatmap(df.corr(),fmt='.2f', annot=True )"
      ],
      "execution_count": 496,
      "outputs": [
        {
          "output_type": "execute_result",
          "data": {
            "text/plain": [
              "<matplotlib.axes._subplots.AxesSubplot at 0x7f2f7f57cb10>"
            ]
          },
          "metadata": {},
          "execution_count": 496
        },
        {
          "output_type": "display_data",
          "data": {
            "image/png": "[encoded data removed]",
            "text/plain": [
              "<Figure size 432x288 with 2 Axes>"
            ]
          },
          "metadata": {
            "needs_background": "light"
          }
        }
      ]
    },
    {
      "cell_type": "markdown",
      "metadata": {
        "id": "H3vkSdK0Ay6p"
      },
      "source": [
        "Observation: There is a strong positive linear relation between pental length and petal width\n",
        "\n",
        "- There is a negative linear relation between sepal width and sepal length."
      ]
    },
    {
      "cell_type": "code",
      "metadata": {
        "id": "ch6WeHrbs8yc",
        "colab": {
          "base_uri": "https://localhost:8080/",
          "height": 441
        },
        "outputId": "ff42dd09-c6a6-4fa5-c9f6-dcfd2049f524"
      },
      "source": [
        "dfnew =pd.DataFrame({\n",
        "   'sepal length (cm)':iris_data.data[:,0],\n",
        "   'sepal width (cm)':iris_data.data[:,1],\n",
        "   'petal length (cm)':iris_data.data[:,2],\n",
        "   'petal width (cm)':iris_data.data[:,3],\n",
        "  'target':iris_data.target\n",
        "})\n",
        "dfnew"
      ],
      "execution_count": 587,
      "outputs": [
        {
          "output_type": "execute_result",
          "data": {
            "text/html": [
              "<div>\n",
              "<style scoped>\n",
              "    .dataframe tbody tr th:only-of-type {\n",
              "        vertical-align: middle;\n",
              "    }\n",
              "\n",
              "    .dataframe tbody tr th {\n",
              "        vertical-align: top;\n",
              "    }\n",
              "\n",
              "    .dataframe thead th {\n",
              "        text-align: right;\n",
              "    }\n",
              "</style>\n",
              "<table border=\"1\" class=\"dataframe\">\n",
              "  <thead>\n",
              "    <tr style=\"text-align: right;\">\n",
              "      <th></th>\n",
              "      <th>sepal length (cm)</th>\n",
              "      <th>sepal width (cm)</th>\n",
              "      <th>petal length (cm)</th>\n",
              "      <th>petal width (cm)</th>\n",
              "      <th>target</th>\n",
              "    </tr>\n",
              "  </thead>\n",
              "  <tbody>\n",
              "    <tr>\n",
              "      <th>0</th>\n",
              "      <td>5.1</td>\n",
              "      <td>3.5</td>\n",
              "      <td>1.4</td>\n",
              "      <td>0.2</td>\n",
              "      <td>0</td>\n",
              "    </tr>\n",
              "    <tr>\n",
              "      <th>1</th>\n",
              "      <td>4.9</td>\n",
              "      <td>3.0</td>\n",
              "      <td>1.4</td>\n",
              "      <td>0.2</td>\n",
              "      <td>0</td>\n",
              "    </tr>\n",
              "    <tr>\n",
              "      <th>2</th>\n",
              "      <td>4.7</td>\n",
              "      <td>3.2</td>\n",
              "      <td>1.3</td>\n",
              "      <td>0.2</td>\n",
              "      <td>0</td>\n",
              "    </tr>\n",
              "    <tr>\n",
              "      <th>3</th>\n",
              "      <td>4.6</td>\n",
              "      <td>3.1</td>\n",
              "      <td>1.5</td>\n",
              "      <td>0.2</td>\n",
              "      <td>0</td>\n",
              "    </tr>\n",
              "    <tr>\n",
              "      <th>4</th>\n",
              "      <td>5.0</td>\n",
              "      <td>3.6</td>\n",
              "      <td>1.4</td>\n",
              "      <td>0.2</td>\n",
              "      <td>0</td>\n",
              "    </tr>\n",
              "    <tr>\n",
              "      <th>...</th>\n",
              "      <td>...</td>\n",
              "      <td>...</td>\n",
              "      <td>...</td>\n",
              "      <td>...</td>\n",
              "      <td>...</td>\n",
              "    </tr>\n",
              "    <tr>\n",
              "      <th>145</th>\n",
              "      <td>6.7</td>\n",
              "      <td>3.0</td>\n",
              "      <td>5.2</td>\n",
              "      <td>2.3</td>\n",
              "      <td>2</td>\n",
              "    </tr>\n",
              "    <tr>\n",
              "      <th>146</th>\n",
              "      <td>6.3</td>\n",
              "      <td>2.5</td>\n",
              "      <td>5.0</td>\n",
              "      <td>1.9</td>\n",
              "      <td>2</td>\n",
              "    </tr>\n",
              "    <tr>\n",
              "      <th>147</th>\n",
              "      <td>6.5</td>\n",
              "      <td>3.0</td>\n",
              "      <td>5.2</td>\n",
              "      <td>2.0</td>\n",
              "      <td>2</td>\n",
              "    </tr>\n",
              "    <tr>\n",
              "      <th>148</th>\n",
              "      <td>6.2</td>\n",
              "      <td>3.4</td>\n",
              "      <td>5.4</td>\n",
              "      <td>2.3</td>\n",
              "      <td>2</td>\n",
              "    </tr>\n",
              "    <tr>\n",
              "      <th>149</th>\n",
              "      <td>5.9</td>\n",
              "      <td>3.0</td>\n",
              "      <td>5.1</td>\n",
              "      <td>1.8</td>\n",
              "      <td>2</td>\n",
              "    </tr>\n",
              "  </tbody>\n",
              "</table>\n",
              "<p>150 rows × 5 columns</p>\n",
              "</div>"
            ],
            "text/plain": [
              "     sepal length (cm)  sepal width (cm)  ...  petal width (cm)  target\n",
              "0                  5.1               3.5  ...               0.2       0\n",
              "1                  4.9               3.0  ...               0.2       0\n",
              "2                  4.7               3.2  ...               0.2       0\n",
              "3                  4.6               3.1  ...               0.2       0\n",
              "4                  5.0               3.6  ...               0.2       0\n",
              "..                 ...               ...  ...               ...     ...\n",
              "145                6.7               3.0  ...               2.3       2\n",
              "146                6.3               2.5  ...               1.9       2\n",
              "147                6.5               3.0  ...               2.0       2\n",
              "148                6.2               3.4  ...               2.3       2\n",
              "149                5.9               3.0  ...               1.8       2\n",
              "\n",
              "[150 rows x 5 columns]"
            ]
          },
          "metadata": {},
          "execution_count": 587
        }
      ]
    },
    {
      "cell_type": "code",
      "metadata": {
        "id": "AouTrCsGs9Xe",
        "colab": {
          "base_uri": "https://localhost:8080/",
          "height": 350
        },
        "outputId": "71204579-c674-4827-f3a6-670f04bb7b70"
      },
      "source": [
        "# Visualize insulin level and race\n",
        "\n",
        "plt.figure(figsize=(10, 5))\n",
        "sns.countplot(x='sepal length (cm)', data=dfnew, hue='target')\n",
        "plt.title('sepal length (cm) / target')\n",
        "plt.show()"
      ],
      "execution_count": 588,
      "outputs": [
        {
          "output_type": "display_data",
          "data": {
            "image/png": "[encoded data removed]",
            "text/plain": [
              "<Figure size 720x360 with 1 Axes>"
            ]
          },
          "metadata": {
            "needs_background": "light"
          }
        }
      ]
    },
    {
      "cell_type": "code",
      "metadata": {
        "id": "iUfJeCMfs9av"
      },
      "source": [
        ""
      ],
      "execution_count": 496,
      "outputs": []
    },
    {
      "cell_type": "markdown",
      "metadata": {
        "id": "cL_nuRRVs-CL"
      },
      "source": [
        "# ML - Model Building"
      ]
    },
    {
      "cell_type": "markdown",
      "metadata": {
        "id": "71ZAAL2OuMRg"
      },
      "source": [
        "## Algorithm # 1 - Logistic Regression"
      ]
    },
    {
      "cell_type": "markdown",
      "metadata": {
        "id": "Sro_S7KftNYG"
      },
      "source": [
        "## Scenario 1: Build a model using Sepal Attributes only\n",
        "\n",
        "*   sepal length (cm)\n",
        "*   sepal width (cm) *italicized text*\n",
        "\n"
      ]
    },
    {
      "cell_type": "code",
      "metadata": {
        "id": "VKof6URqtj67",
        "colab": {
          "base_uri": "https://localhost:8080/"
        },
        "outputId": "0559f98d-ee8f-4690-c98c-3f93e803400c"
      },
      "source": [
        "# hint\n",
        "X= pd.DataFrame(iris_data.data[:,:2])\n",
        "X.shape\n",
        "\n",
        "\n"
      ],
      "execution_count": 497,
      "outputs": [
        {
          "output_type": "execute_result",
          "data": {
            "text/plain": [
              "(150, 2)"
            ]
          },
          "metadata": {},
          "execution_count": 497
        }
      ]
    },
    {
      "cell_type": "code",
      "metadata": {
        "colab": {
          "base_uri": "https://localhost:8080/",
          "height": 206
        },
        "id": "KeFIdw_AOvM-",
        "outputId": "493985f6-0684-457a-eed3-f7272a20831f"
      },
      "source": [
        "features = ['sepal length (cm)','sepal width (cm)']\n",
        "X.columns = features\n",
        "X.head()"
      ],
      "execution_count": 498,
      "outputs": [
        {
          "output_type": "execute_result",
          "data": {
            "text/html": [
              "<div>\n",
              "<style scoped>\n",
              "    .dataframe tbody tr th:only-of-type {\n",
              "        vertical-align: middle;\n",
              "    }\n",
              "\n",
              "    .dataframe tbody tr th {\n",
              "        vertical-align: top;\n",
              "    }\n",
              "\n",
              "    .dataframe thead th {\n",
              "        text-align: right;\n",
              "    }\n",
              "</style>\n",
              "<table border=\"1\" class=\"dataframe\">\n",
              "  <thead>\n",
              "    <tr style=\"text-align: right;\">\n",
              "      <th></th>\n",
              "      <th>sepal length (cm)</th>\n",
              "      <th>sepal width (cm)</th>\n",
              "    </tr>\n",
              "  </thead>\n",
              "  <tbody>\n",
              "    <tr>\n",
              "      <th>0</th>\n",
              "      <td>5.1</td>\n",
              "      <td>3.5</td>\n",
              "    </tr>\n",
              "    <tr>\n",
              "      <th>1</th>\n",
              "      <td>4.9</td>\n",
              "      <td>3.0</td>\n",
              "    </tr>\n",
              "    <tr>\n",
              "      <th>2</th>\n",
              "      <td>4.7</td>\n",
              "      <td>3.2</td>\n",
              "    </tr>\n",
              "    <tr>\n",
              "      <th>3</th>\n",
              "      <td>4.6</td>\n",
              "      <td>3.1</td>\n",
              "    </tr>\n",
              "    <tr>\n",
              "      <th>4</th>\n",
              "      <td>5.0</td>\n",
              "      <td>3.6</td>\n",
              "    </tr>\n",
              "  </tbody>\n",
              "</table>\n",
              "</div>"
            ],
            "text/plain": [
              "   sepal length (cm)  sepal width (cm)\n",
              "0                5.1               3.5\n",
              "1                4.9               3.0\n",
              "2                4.7               3.2\n",
              "3                4.6               3.1\n",
              "4                5.0               3.6"
            ]
          },
          "metadata": {},
          "execution_count": 498
        }
      ]
    },
    {
      "cell_type": "code",
      "metadata": {
        "id": "rRoNddbEtj9O",
        "colab": {
          "base_uri": "https://localhost:8080/"
        },
        "outputId": "a178ee6c-2459-45a1-db51-ef3e1332020d"
      },
      "source": [
        "\n",
        "y=iris_data.target\n",
        "y.shape\n",
        " "
      ],
      "execution_count": 499,
      "outputs": [
        {
          "output_type": "execute_result",
          "data": {
            "text/plain": [
              "(150,)"
            ]
          },
          "metadata": {},
          "execution_count": 499
        }
      ]
    },
    {
      "cell_type": "code",
      "metadata": {
        "id": "DiLh_Ge0tj_s",
        "colab": {
          "base_uri": "https://localhost:8080/"
        },
        "outputId": "48ce1828-7328-4e8c-e076-624a63062a20"
      },
      "source": [
        "#split the data into train and test sets and view the different shape\n",
        "from sklearn.model_selection import train_test_split\n",
        "x_train, x_test, y_train, y_test= train_test_split(X,y)\n",
        "print(x_train.shape,x_test.shape, y_train.shape,y_test.shape)"
      ],
      "execution_count": 500,
      "outputs": [
        {
          "output_type": "stream",
          "name": "stdout",
          "text": [
            "(112, 2) (38, 2) (112,) (38,)\n"
          ]
        }
      ]
    },
    {
      "cell_type": "code",
      "metadata": {
        "id": "y70kWCnvtkD-"
      },
      "source": [
        "#import LogisticRegression function\n",
        "from sklearn.linear_model import LogisticRegression\n",
        "lgRg = LogisticRegression()"
      ],
      "execution_count": 501,
      "outputs": []
    },
    {
      "cell_type": "code",
      "metadata": {
        "id": "Id0CuXFxtkH6",
        "colab": {
          "base_uri": "https://localhost:8080/"
        },
        "outputId": "d7af3207-305c-41d6-9753-2cd010f0ab66"
      },
      "source": [
        "# fit the logistic regression to the training model\n",
        "lgRg.fit(x_train,y_train)"
      ],
      "execution_count": 502,
      "outputs": [
        {
          "output_type": "execute_result",
          "data": {
            "text/plain": [
              "LogisticRegression()"
            ]
          },
          "metadata": {},
          "execution_count": 502
        }
      ]
    },
    {
      "cell_type": "code",
      "metadata": {
        "id": "xoR02vwatmAP",
        "colab": {
          "base_uri": "https://localhost:8080/"
        },
        "outputId": "86afb700-4aef-4508-980e-87d3b27267a0"
      },
      "source": [
        "#use the fitted model to make predictions on the test data \n",
        "y_pred = lgRg.predict(x_test)\n",
        "y_pred[0:10]"
      ],
      "execution_count": 503,
      "outputs": [
        {
          "output_type": "execute_result",
          "data": {
            "text/plain": [
              "array([2, 1, 1, 2, 0, 1, 0, 2, 0, 2])"
            ]
          },
          "metadata": {},
          "execution_count": 503
        }
      ]
    },
    {
      "cell_type": "code",
      "metadata": {
        "colab": {
          "base_uri": "https://localhost:8080/"
        },
        "id": "5p8sstpKQ_IA",
        "outputId": "a447513c-70e0-47a8-fea0-e34cd83f1c64"
      },
      "source": [
        "y_test[0:10]"
      ],
      "execution_count": 504,
      "outputs": [
        {
          "output_type": "execute_result",
          "data": {
            "text/plain": [
              "array([1, 2, 1, 2, 0, 1, 0, 2, 0, 2])"
            ]
          },
          "metadata": {},
          "execution_count": 504
        }
      ]
    },
    {
      "cell_type": "code",
      "metadata": {
        "colab": {
          "base_uri": "https://localhost:8080/"
        },
        "id": "CKXxD6ltRcWc",
        "outputId": "9fa0d6ed-c7e1-494a-e82d-e5b6f6c7f88d"
      },
      "source": [
        "#print the score of the model\n",
        "lgRg.score(x_test,y_test)"
      ],
      "execution_count": 505,
      "outputs": [
        {
          "output_type": "execute_result",
          "data": {
            "text/plain": [
              "0.7368421052631579"
            ]
          },
          "metadata": {},
          "execution_count": 505
        }
      ]
    },
    {
      "cell_type": "code",
      "metadata": {
        "colab": {
          "base_uri": "https://localhost:8080/"
        },
        "id": "Tweg1pHoRq3O",
        "outputId": "58103625-5be4-4f55-abfa-fff0da44a17d"
      },
      "source": [
        "#print the accuracy score of the model\n",
        "from sklearn.metrics import accuracy_score\n",
        "accuracy_score(y_test,y_pred)"
      ],
      "execution_count": 506,
      "outputs": [
        {
          "output_type": "execute_result",
          "data": {
            "text/plain": [
              "0.7368421052631579"
            ]
          },
          "metadata": {},
          "execution_count": 506
        }
      ]
    },
    {
      "cell_type": "code",
      "metadata": {
        "colab": {
          "base_uri": "https://localhost:8080/"
        },
        "id": "sv5Irb-NRyyA",
        "outputId": "1b5aa74d-9592-4c71-8c1a-3351661cb445"
      },
      "source": [
        "# Import confusion_matrix from sklearn's metrics module and print the matrix\n",
        "from sklearn.metrics import confusion_matrix\n",
        "confusion_matrix(y_test,y_pred)"
      ],
      "execution_count": 507,
      "outputs": [
        {
          "output_type": "execute_result",
          "data": {
            "text/plain": [
              "array([[11,  0,  0],\n",
              "       [ 0, 11,  6],\n",
              "       [ 0,  4,  6]])"
            ]
          },
          "metadata": {},
          "execution_count": 507
        }
      ]
    },
    {
      "cell_type": "code",
      "metadata": {
        "colab": {
          "base_uri": "https://localhost:8080/"
        },
        "id": "SoRyJrbAR1i-",
        "outputId": "4a09884e-82a3-41b1-efa5-e34adaad76e1"
      },
      "source": [
        "# Print the report\n",
        "from sklearn.metrics import classification_report\n",
        "print(classification_report(y_test,y_pred))"
      ],
      "execution_count": 508,
      "outputs": [
        {
          "output_type": "stream",
          "name": "stdout",
          "text": [
            "              precision    recall  f1-score   support\n",
            "\n",
            "           0       1.00      1.00      1.00        11\n",
            "           1       0.73      0.65      0.69        17\n",
            "           2       0.50      0.60      0.55        10\n",
            "\n",
            "    accuracy                           0.74        38\n",
            "   macro avg       0.74      0.75      0.74        38\n",
            "weighted avg       0.75      0.74      0.74        38\n",
            "\n"
          ]
        }
      ]
    },
    {
      "cell_type": "code",
      "metadata": {
        "colab": {
          "base_uri": "https://localhost:8080/",
          "height": 298
        },
        "id": "hqvOnivmSDhO",
        "outputId": "a58e7ebe-3e2c-44d9-e5d8-f83d198d7125"
      },
      "source": [
        "#ploting the confusion matrix\n",
        "sns.heatmap(confusion_matrix(y_test, y_pred), annot=True, fmt='.0f')\n",
        "plt.xlabel('Predicted Values')\n",
        "plt.ylabel('Actual Values')"
      ],
      "execution_count": 509,
      "outputs": [
        {
          "output_type": "execute_result",
          "data": {
            "text/plain": [
              "Text(33.0, 0.5, 'Actual Values')"
            ]
          },
          "metadata": {},
          "execution_count": 509
        },
        {
          "output_type": "display_data",
          "data": {
            "image/png": "[encoded data removed]",
            "text/plain": [
              "<Figure size 432x288 with 2 Axes>"
            ]
          },
          "metadata": {
            "needs_background": "light"
          }
        }
      ]
    },
    {
      "cell_type": "markdown",
      "metadata": {
        "id": "RC3RhUTjS4Re"
      },
      "source": [
        "Observatoion: "
      ]
    },
    {
      "cell_type": "markdown",
      "metadata": {
        "id": "tYdUDkVKTRxd"
      },
      "source": [
        ""
      ]
    },
    {
      "cell_type": "markdown",
      "metadata": {
        "id": "KPdFFn4Vtmr2"
      },
      "source": [
        "## Scenario 2: Build a model using Petal Attributes only\n",
        "\n",
        "*   petal length (cm)\n",
        "*   petal width (cm)"
      ]
    },
    {
      "cell_type": "code",
      "metadata": {
        "id": "5qo9nOEkttH0",
        "colab": {
          "base_uri": "https://localhost:8080/"
        },
        "outputId": "651df711-11c9-4977-f368-cf6a46043571"
      },
      "source": [
        "# hint\n",
        "X= iris_data.data[:,2:]\n",
        "X.shape\n"
      ],
      "execution_count": 510,
      "outputs": [
        {
          "output_type": "execute_result",
          "data": {
            "text/plain": [
              "(150, 2)"
            ]
          },
          "metadata": {},
          "execution_count": 510
        }
      ]
    },
    {
      "cell_type": "code",
      "metadata": {
        "id": "B-5TZvx3ttJ2",
        "colab": {
          "base_uri": "https://localhost:8080/",
          "height": 206
        },
        "outputId": "04a871e0-9377-4721-e18d-0ee9d83a9533"
      },
      "source": [
        "X= pd.DataFrame(iris_data.data[:,2:])\n",
        "X.head()"
      ],
      "execution_count": 511,
      "outputs": [
        {
          "output_type": "execute_result",
          "data": {
            "text/html": [
              "<div>\n",
              "<style scoped>\n",
              "    .dataframe tbody tr th:only-of-type {\n",
              "        vertical-align: middle;\n",
              "    }\n",
              "\n",
              "    .dataframe tbody tr th {\n",
              "        vertical-align: top;\n",
              "    }\n",
              "\n",
              "    .dataframe thead th {\n",
              "        text-align: right;\n",
              "    }\n",
              "</style>\n",
              "<table border=\"1\" class=\"dataframe\">\n",
              "  <thead>\n",
              "    <tr style=\"text-align: right;\">\n",
              "      <th></th>\n",
              "      <th>0</th>\n",
              "      <th>1</th>\n",
              "    </tr>\n",
              "  </thead>\n",
              "  <tbody>\n",
              "    <tr>\n",
              "      <th>0</th>\n",
              "      <td>1.4</td>\n",
              "      <td>0.2</td>\n",
              "    </tr>\n",
              "    <tr>\n",
              "      <th>1</th>\n",
              "      <td>1.4</td>\n",
              "      <td>0.2</td>\n",
              "    </tr>\n",
              "    <tr>\n",
              "      <th>2</th>\n",
              "      <td>1.3</td>\n",
              "      <td>0.2</td>\n",
              "    </tr>\n",
              "    <tr>\n",
              "      <th>3</th>\n",
              "      <td>1.5</td>\n",
              "      <td>0.2</td>\n",
              "    </tr>\n",
              "    <tr>\n",
              "      <th>4</th>\n",
              "      <td>1.4</td>\n",
              "      <td>0.2</td>\n",
              "    </tr>\n",
              "  </tbody>\n",
              "</table>\n",
              "</div>"
            ],
            "text/plain": [
              "     0    1\n",
              "0  1.4  0.2\n",
              "1  1.4  0.2\n",
              "2  1.3  0.2\n",
              "3  1.5  0.2\n",
              "4  1.4  0.2"
            ]
          },
          "metadata": {},
          "execution_count": 511
        }
      ]
    },
    {
      "cell_type": "code",
      "metadata": {
        "id": "p0uRC5fGttMz",
        "colab": {
          "base_uri": "https://localhost:8080/"
        },
        "outputId": "d8679c6b-f47b-4087-8dba-4c9bcd5967df"
      },
      "source": [
        " y=iris_data.target\n",
        " y.shape"
      ],
      "execution_count": 512,
      "outputs": [
        {
          "output_type": "execute_result",
          "data": {
            "text/plain": [
              "(150,)"
            ]
          },
          "metadata": {},
          "execution_count": 512
        }
      ]
    },
    {
      "cell_type": "code",
      "metadata": {
        "id": "4GoxmzdlttOw",
        "colab": {
          "base_uri": "https://localhost:8080/"
        },
        "outputId": "68ab938c-28a6-458c-b79f-d832cce15d10"
      },
      "source": [
        "#split the data into train and test sets and view the different shape\n",
        "from sklearn.model_selection import train_test_split\n",
        "x1_train, x1_test, y_train, y_test= train_test_split(X,y)\n",
        "print(x1_train.shape,x1_test.shape, y_train.shape,y_test.shape)"
      ],
      "execution_count": 513,
      "outputs": [
        {
          "output_type": "stream",
          "name": "stdout",
          "text": [
            "(112, 2) (38, 2) (112,) (38,)\n"
          ]
        }
      ]
    },
    {
      "cell_type": "code",
      "metadata": {
        "id": "ifMj_Z8SttS-",
        "colab": {
          "base_uri": "https://localhost:8080/"
        },
        "outputId": "c59bc2f8-89ce-44ec-dad9-d0d232a17333"
      },
      "source": [
        "lgRg_2 = LogisticRegression()\n",
        "lgRg_2.fit(x1_train,y_train)"
      ],
      "execution_count": 514,
      "outputs": [
        {
          "output_type": "execute_result",
          "data": {
            "text/plain": [
              "LogisticRegression()"
            ]
          },
          "metadata": {},
          "execution_count": 514
        }
      ]
    },
    {
      "cell_type": "code",
      "metadata": {
        "id": "75yOhqNwttU4",
        "colab": {
          "base_uri": "https://localhost:8080/"
        },
        "outputId": "461b9ec2-d926-4129-eeae-84e888208074"
      },
      "source": [
        "y_pred = lgRg_2.predict(x1_test)\n",
        "y_test[0:10]"
      ],
      "execution_count": 515,
      "outputs": [
        {
          "output_type": "execute_result",
          "data": {
            "text/plain": [
              "array([1, 2, 2, 2, 1, 0, 2, 0, 2, 1])"
            ]
          },
          "metadata": {},
          "execution_count": 515
        }
      ]
    },
    {
      "cell_type": "code",
      "metadata": {
        "id": "4_aNwc3wttX5",
        "colab": {
          "base_uri": "https://localhost:8080/"
        },
        "outputId": "7cff18b2-84a6-4a1d-c4a7-fa42c02d0732"
      },
      "source": [
        "y_pred[0:10]"
      ],
      "execution_count": 516,
      "outputs": [
        {
          "output_type": "execute_result",
          "data": {
            "text/plain": [
              "array([1, 2, 2, 2, 1, 0, 2, 0, 2, 1])"
            ]
          },
          "metadata": {},
          "execution_count": 516
        }
      ]
    },
    {
      "cell_type": "code",
      "metadata": {
        "colab": {
          "base_uri": "https://localhost:8080/"
        },
        "id": "pZofhsuaVTJK",
        "outputId": "59d91ecd-77f4-4aca-97e1-fd57ebf75f81"
      },
      "source": [
        "#print the score of the model\n",
        "lgRg_2.score(x1_test,y_test)"
      ],
      "execution_count": 517,
      "outputs": [
        {
          "output_type": "execute_result",
          "data": {
            "text/plain": [
              "0.9473684210526315"
            ]
          },
          "metadata": {},
          "execution_count": 517
        }
      ]
    },
    {
      "cell_type": "code",
      "metadata": {
        "colab": {
          "base_uri": "https://localhost:8080/"
        },
        "id": "yUMv7AI6WPkv",
        "outputId": "1bb10f88-07ef-49fb-c2ea-4fd8aaad272d"
      },
      "source": [
        "accuracy_score(y_test,y_pred)"
      ],
      "execution_count": 518,
      "outputs": [
        {
          "output_type": "execute_result",
          "data": {
            "text/plain": [
              "0.9473684210526315"
            ]
          },
          "metadata": {},
          "execution_count": 518
        }
      ]
    },
    {
      "cell_type": "code",
      "metadata": {
        "colab": {
          "base_uri": "https://localhost:8080/"
        },
        "id": "1jkOaR9VWSXE",
        "outputId": "b4473b4c-da21-4d5b-d019-2b80aefa00d7"
      },
      "source": [
        "confusion_matrix(y_test,y_pred)"
      ],
      "execution_count": 519,
      "outputs": [
        {
          "output_type": "execute_result",
          "data": {
            "text/plain": [
              "array([[14,  0,  0],\n",
              "       [ 0, 11,  2],\n",
              "       [ 0,  0, 11]])"
            ]
          },
          "metadata": {},
          "execution_count": 519
        }
      ]
    },
    {
      "cell_type": "code",
      "metadata": {
        "colab": {
          "base_uri": "https://localhost:8080/",
          "height": 302
        },
        "id": "xTSLO3UnWZb3",
        "outputId": "71ae8004-5de1-4a55-fdd3-fc338af45423"
      },
      "source": [
        "#ploting the confusion matrix\n",
        "sns.heatmap(confusion_matrix(y_test, y_pred), annot=True, fmt='.0f')\n",
        "plt.xlabel('Predicted Values')\n",
        "plt.ylabel('Actual Values')"
      ],
      "execution_count": 520,
      "outputs": [
        {
          "output_type": "execute_result",
          "data": {
            "text/plain": [
              "Text(33.0, 0.5, 'Actual Values')"
            ]
          },
          "metadata": {},
          "execution_count": 520
        },
        {
          "output_type": "display_data",
          "data": {
            "image/png": "[encoded data removed]",
            "text/plain": [
              "<Figure size 432x288 with 2 Axes>"
            ]
          },
          "metadata": {
            "needs_background": "light"
          }
        }
      ]
    },
    {
      "cell_type": "code",
      "metadata": {
        "colab": {
          "base_uri": "https://localhost:8080/"
        },
        "id": "Uo2R9L6ZWj5r",
        "outputId": "a1312d21-5cb8-4c49-ddba-c97ecd9c34f1"
      },
      "source": [
        "print(classification_report(y_test,y_pred))"
      ],
      "execution_count": 521,
      "outputs": [
        {
          "output_type": "stream",
          "name": "stdout",
          "text": [
            "              precision    recall  f1-score   support\n",
            "\n",
            "           0       1.00      1.00      1.00        14\n",
            "           1       1.00      0.85      0.92        13\n",
            "           2       0.85      1.00      0.92        11\n",
            "\n",
            "    accuracy                           0.95        38\n",
            "   macro avg       0.95      0.95      0.94        38\n",
            "weighted avg       0.96      0.95      0.95        38\n",
            "\n"
          ]
        }
      ]
    },
    {
      "cell_type": "markdown",
      "metadata": {
        "id": "OabJkHkaWtqT"
      },
      "source": [
        "Observation:"
      ]
    },
    {
      "cell_type": "markdown",
      "metadata": {
        "id": "CuTi20zQtuAy"
      },
      "source": [
        "## Scenario 3: Build a model using Sepal and Petal Attributes (all attributes)\n",
        "\n",
        "*   sepal length (cm)\n",
        "*   sepal width (cm)\n",
        "*   petal length (cm)\n",
        "*   petal width (cm)"
      ]
    },
    {
      "cell_type": "code",
      "metadata": {
        "id": "BjiriEIyt5oa",
        "colab": {
          "base_uri": "https://localhost:8080/"
        },
        "outputId": "09100d22-d4af-4422-9afd-ffef0dff006e"
      },
      "source": [
        "X= iris_data.data\n",
        "X.shape"
      ],
      "execution_count": 522,
      "outputs": [
        {
          "output_type": "execute_result",
          "data": {
            "text/plain": [
              "(150, 4)"
            ]
          },
          "metadata": {},
          "execution_count": 522
        }
      ]
    },
    {
      "cell_type": "code",
      "metadata": {
        "id": "jJibiwDMt5qu",
        "colab": {
          "base_uri": "https://localhost:8080/"
        },
        "outputId": "9936f6de-3090-43e1-b2ff-ce2b74619fae"
      },
      "source": [
        "x2_train, x2_test, y_train, y_test= train_test_split(X,y)\n",
        "print(x2_train.shape,x2_test.shape, y_train.shape,y_test.shape)"
      ],
      "execution_count": 523,
      "outputs": [
        {
          "output_type": "stream",
          "name": "stdout",
          "text": [
            "(112, 4) (38, 4) (112,) (38,)\n"
          ]
        }
      ]
    },
    {
      "cell_type": "code",
      "metadata": {
        "id": "AzLnuohPt5s2",
        "colab": {
          "base_uri": "https://localhost:8080/"
        },
        "outputId": "4d13ff69-beaf-4934-dc22-0a415862ffc5"
      },
      "source": [
        "lgRg_3 = LogisticRegression()\n",
        "lgRg_3.fit(x2_train,y_train)"
      ],
      "execution_count": 524,
      "outputs": [
        {
          "output_type": "execute_result",
          "data": {
            "text/plain": [
              "LogisticRegression()"
            ]
          },
          "metadata": {},
          "execution_count": 524
        }
      ]
    },
    {
      "cell_type": "code",
      "metadata": {
        "id": "FhlPoe1xt5vN",
        "colab": {
          "base_uri": "https://localhost:8080/"
        },
        "outputId": "cc1bc26f-53bc-465d-af37-e4929d9272b1"
      },
      "source": [
        "y_pred = lgRg_3.predict(x2_test)\n",
        "y_test[0:10]"
      ],
      "execution_count": 525,
      "outputs": [
        {
          "output_type": "execute_result",
          "data": {
            "text/plain": [
              "array([0, 2, 0, 2, 2, 0, 0, 0, 2, 0])"
            ]
          },
          "metadata": {},
          "execution_count": 525
        }
      ]
    },
    {
      "cell_type": "code",
      "metadata": {
        "id": "KcW4idJKt5yz",
        "colab": {
          "base_uri": "https://localhost:8080/"
        },
        "outputId": "947bed45-cf3c-448f-b212-3a110af9187d"
      },
      "source": [
        "y_pred[0:10]"
      ],
      "execution_count": 526,
      "outputs": [
        {
          "output_type": "execute_result",
          "data": {
            "text/plain": [
              "array([0, 2, 0, 2, 2, 0, 0, 0, 2, 0])"
            ]
          },
          "metadata": {},
          "execution_count": 526
        }
      ]
    },
    {
      "cell_type": "code",
      "metadata": {
        "id": "PwTELvFRt52E",
        "colab": {
          "base_uri": "https://localhost:8080/"
        },
        "outputId": "03e95159-267a-493d-ff69-ee5a82c6d8a1"
      },
      "source": [
        "lgRg_3.score(x2_test,y_test)"
      ],
      "execution_count": 527,
      "outputs": [
        {
          "output_type": "execute_result",
          "data": {
            "text/plain": [
              "0.9736842105263158"
            ]
          },
          "metadata": {},
          "execution_count": 527
        }
      ]
    },
    {
      "cell_type": "code",
      "metadata": {
        "colab": {
          "base_uri": "https://localhost:8080/"
        },
        "id": "YV5kkmg6YOdg",
        "outputId": "02d7faec-64c7-4267-e98b-26ee13d4cdde"
      },
      "source": [
        "accuracy_score(y_test,y_pred)"
      ],
      "execution_count": 528,
      "outputs": [
        {
          "output_type": "execute_result",
          "data": {
            "text/plain": [
              "0.9736842105263158"
            ]
          },
          "metadata": {},
          "execution_count": 528
        }
      ]
    },
    {
      "cell_type": "code",
      "metadata": {
        "colab": {
          "base_uri": "https://localhost:8080/"
        },
        "id": "FHY4kjWFYa2E",
        "outputId": "d36a9112-31f3-4f29-c6fb-4bc7a7332d19"
      },
      "source": [
        "confusion_matrix(y_test,y_pred)"
      ],
      "execution_count": 529,
      "outputs": [
        {
          "output_type": "execute_result",
          "data": {
            "text/plain": [
              "array([[14,  0,  0],\n",
              "       [ 0,  6,  1],\n",
              "       [ 0,  0, 17]])"
            ]
          },
          "metadata": {},
          "execution_count": 529
        }
      ]
    },
    {
      "cell_type": "code",
      "metadata": {
        "colab": {
          "base_uri": "https://localhost:8080/",
          "height": 298
        },
        "id": "SYDiFo02Ykyt",
        "outputId": "c48ca33b-78e4-41aa-feb1-a5cf04240b23"
      },
      "source": [
        "#ploting the confusion matrix\n",
        "sns.heatmap(confusion_matrix(y_test, y_pred), annot=True, fmt='.0f')\n",
        "plt.xlabel('Predicted Values')\n",
        "plt.ylabel('Actual Values')"
      ],
      "execution_count": 530,
      "outputs": [
        {
          "output_type": "execute_result",
          "data": {
            "text/plain": [
              "Text(33.0, 0.5, 'Actual Values')"
            ]
          },
          "metadata": {},
          "execution_count": 530
        },
        {
          "output_type": "display_data",
          "data": {
            "image/png": "[encoded data removed]",
            "text/plain": [
              "<Figure size 432x288 with 2 Axes>"
            ]
          },
          "metadata": {
            "needs_background": "light"
          }
        }
      ]
    },
    {
      "cell_type": "code",
      "metadata": {
        "colab": {
          "base_uri": "https://localhost:8080/"
        },
        "id": "iBUHqFcpYsxP",
        "outputId": "ef32faff-9588-4b8e-810f-ba0d67cb3d5f"
      },
      "source": [
        "print(classification_report(y_test,y_pred))"
      ],
      "execution_count": 531,
      "outputs": [
        {
          "output_type": "stream",
          "name": "stdout",
          "text": [
            "              precision    recall  f1-score   support\n",
            "\n",
            "           0       1.00      1.00      1.00        14\n",
            "           1       1.00      0.86      0.92         7\n",
            "           2       0.94      1.00      0.97        17\n",
            "\n",
            "    accuracy                           0.97        38\n",
            "   macro avg       0.98      0.95      0.96        38\n",
            "weighted avg       0.98      0.97      0.97        38\n",
            "\n"
          ]
        }
      ]
    },
    {
      "cell_type": "markdown",
      "metadata": {
        "id": "DFB0twdCY6jK"
      },
      "source": [
        "Observation:"
      ]
    },
    {
      "cell_type": "code",
      "metadata": {
        "id": "NaAmGmQdY7bf"
      },
      "source": [
        ""
      ],
      "execution_count": 531,
      "outputs": []
    },
    {
      "cell_type": "markdown",
      "metadata": {
        "id": "Kh5Grk0puVoa"
      },
      "source": [
        "## Algorithm # 2 - KNN (K Nearest Neibhors)"
      ]
    },
    {
      "cell_type": "markdown",
      "metadata": {
        "id": "4llS0v7WubNx"
      },
      "source": [
        "## Scenario 1: Build a model using Sepal Attributes only\n",
        "\n",
        "*   sepal length (cm)\n",
        "*   sepal width (cm)"
      ]
    },
    {
      "cell_type": "code",
      "metadata": {
        "id": "TIssnVuruYfv",
        "colab": {
          "base_uri": "https://localhost:8080/"
        },
        "outputId": "b3a9a188-bb6b-442b-f3d7-3e3a5a9e5b2a"
      },
      "source": [
        "X= pd.DataFrame(iris_data.data[:,:2])\n",
        "X.shape"
      ],
      "execution_count": 532,
      "outputs": [
        {
          "output_type": "execute_result",
          "data": {
            "text/plain": [
              "(150, 2)"
            ]
          },
          "metadata": {},
          "execution_count": 532
        }
      ]
    },
    {
      "cell_type": "code",
      "metadata": {
        "id": "LzO3JPKcusVu"
      },
      "source": [
        "# Using StandardScaler library to standardize and normalize the data\n",
        "from sklearn.preprocessing import StandardScaler\n",
        "# define scaler\n",
        "scalar = StandardScaler()"
      ],
      "execution_count": 533,
      "outputs": []
    },
    {
      "cell_type": "code",
      "metadata": {
        "id": "W0Eei3k1usaJ",
        "colab": {
          "base_uri": "https://localhost:8080/"
        },
        "outputId": "d7cb1299-7fcc-47f3-d7c0-95f0d9c90608"
      },
      "source": [
        "# fit X using scalar variable\n",
        "scalar.fit(X)"
      ],
      "execution_count": 534,
      "outputs": [
        {
          "output_type": "execute_result",
          "data": {
            "text/plain": [
              "StandardScaler()"
            ]
          },
          "metadata": {},
          "execution_count": 534
        }
      ]
    },
    {
      "cell_type": "code",
      "metadata": {
        "id": "PCmz0gR7usd0",
        "colab": {
          "base_uri": "https://localhost:8080/",
          "height": 206
        },
        "outputId": "69f88265-2552-44dd-a6d0-079e0351a0d9"
      },
      "source": [
        "scaled_features = scalar.transform(X)\n",
        "std_data = pd.DataFrame(scaled_features,columns=X.columns)\n",
        "std_data.head()"
      ],
      "execution_count": 535,
      "outputs": [
        {
          "output_type": "execute_result",
          "data": {
            "text/html": [
              "<div>\n",
              "<style scoped>\n",
              "    .dataframe tbody tr th:only-of-type {\n",
              "        vertical-align: middle;\n",
              "    }\n",
              "\n",
              "    .dataframe tbody tr th {\n",
              "        vertical-align: top;\n",
              "    }\n",
              "\n",
              "    .dataframe thead th {\n",
              "        text-align: right;\n",
              "    }\n",
              "</style>\n",
              "<table border=\"1\" class=\"dataframe\">\n",
              "  <thead>\n",
              "    <tr style=\"text-align: right;\">\n",
              "      <th></th>\n",
              "      <th>0</th>\n",
              "      <th>1</th>\n",
              "    </tr>\n",
              "  </thead>\n",
              "  <tbody>\n",
              "    <tr>\n",
              "      <th>0</th>\n",
              "      <td>-0.900681</td>\n",
              "      <td>1.019004</td>\n",
              "    </tr>\n",
              "    <tr>\n",
              "      <th>1</th>\n",
              "      <td>-1.143017</td>\n",
              "      <td>-0.131979</td>\n",
              "    </tr>\n",
              "    <tr>\n",
              "      <th>2</th>\n",
              "      <td>-1.385353</td>\n",
              "      <td>0.328414</td>\n",
              "    </tr>\n",
              "    <tr>\n",
              "      <th>3</th>\n",
              "      <td>-1.506521</td>\n",
              "      <td>0.098217</td>\n",
              "    </tr>\n",
              "    <tr>\n",
              "      <th>4</th>\n",
              "      <td>-1.021849</td>\n",
              "      <td>1.249201</td>\n",
              "    </tr>\n",
              "  </tbody>\n",
              "</table>\n",
              "</div>"
            ],
            "text/plain": [
              "          0         1\n",
              "0 -0.900681  1.019004\n",
              "1 -1.143017 -0.131979\n",
              "2 -1.385353  0.328414\n",
              "3 -1.506521  0.098217\n",
              "4 -1.021849  1.249201"
            ]
          },
          "metadata": {},
          "execution_count": 535
        }
      ]
    },
    {
      "cell_type": "code",
      "metadata": {
        "colab": {
          "base_uri": "https://localhost:8080/"
        },
        "id": "iTa2neb8ab4j",
        "outputId": "fca9410d-0a6d-4579-ebba-936ec6fc6d6c"
      },
      "source": [
        "#fitting the model\n",
        "#from sklearn.model_selection import train_test_split\n",
        "x1_train, x1_test, y_train, y_test = train_test_split(X,y)\n",
        "X_train.shape, X_test.shape, y_train.shape, y_test.shape"
      ],
      "execution_count": 536,
      "outputs": [
        {
          "output_type": "execute_result",
          "data": {
            "text/plain": [
              "((112, 2), (38, 2), (112,), (38,))"
            ]
          },
          "metadata": {},
          "execution_count": 536
        }
      ]
    },
    {
      "cell_type": "code",
      "metadata": {
        "id": "3WmC8AiUab1g"
      },
      "source": [
        "# Import KNeighborsClassifier frrom sklearn's neighbors module\n",
        "from sklearn.neighbors import KNeighborsClassifier\n",
        "# Create an instance of KNeighborsClassifier \n",
        "knn = KNeighborsClassifier(n_neighbors=1)"
      ],
      "execution_count": 537,
      "outputs": []
    },
    {
      "cell_type": "code",
      "metadata": {
        "colab": {
          "base_uri": "https://localhost:8080/"
        },
        "id": "H5c9kB5Pabx_",
        "outputId": "3e5f8bae-ad05-4718-fd4e-ca69256e4ab2"
      },
      "source": [
        "# Fit the KNeighborsClassifier to the training data\n",
        "knn.fit(x1_train, y_train)"
      ],
      "execution_count": 538,
      "outputs": [
        {
          "output_type": "execute_result",
          "data": {
            "text/plain": [
              "KNeighborsClassifier(n_neighbors=1)"
            ]
          },
          "metadata": {},
          "execution_count": 538
        }
      ]
    },
    {
      "cell_type": "code",
      "metadata": {
        "id": "r3bJdFjhabuK"
      },
      "source": [
        "# Use the fitted model to make predictions on the test data\n",
        "y_predict = knn.predict(x1_test)"
      ],
      "execution_count": 539,
      "outputs": []
    },
    {
      "cell_type": "code",
      "metadata": {
        "colab": {
          "base_uri": "https://localhost:8080/"
        },
        "id": "qJjZRO8fabqu",
        "outputId": "6f057918-7abe-4e2a-9f67-416204900658"
      },
      "source": [
        "# Actual test values \n",
        "y_test[0:10]"
      ],
      "execution_count": 540,
      "outputs": [
        {
          "output_type": "execute_result",
          "data": {
            "text/plain": [
              "array([0, 1, 2, 2, 1, 0, 1, 1, 2, 1])"
            ]
          },
          "metadata": {},
          "execution_count": 540
        }
      ]
    },
    {
      "cell_type": "code",
      "metadata": {
        "colab": {
          "base_uri": "https://localhost:8080/"
        },
        "id": "wDqGfy2gabme",
        "outputId": "15208d24-6100-4d9b-99ea-8b57a145b3ed"
      },
      "source": [
        "#print the score of the model\n",
        "knn.score(x1_test,y_test)"
      ],
      "execution_count": 541,
      "outputs": [
        {
          "output_type": "execute_result",
          "data": {
            "text/plain": [
              "0.7631578947368421"
            ]
          },
          "metadata": {},
          "execution_count": 541
        }
      ]
    },
    {
      "cell_type": "code",
      "metadata": {
        "colab": {
          "base_uri": "https://localhost:8080/"
        },
        "id": "xkUeo5bMabht",
        "outputId": "089adf04-1ab7-4edf-8079-8e80b2ab5b50"
      },
      "source": [
        "# Fit the test labels and predictions into confusion_matrix\n",
        "#from sklearn.metrics import confusion_matrix,classification_report\n",
        "confusion_matrix(y_test,y_predict)"
      ],
      "execution_count": 542,
      "outputs": [
        {
          "output_type": "execute_result",
          "data": {
            "text/plain": [
              "array([[15,  0,  0],\n",
              "       [ 0,  5,  5],\n",
              "       [ 0,  4,  9]])"
            ]
          },
          "metadata": {},
          "execution_count": 542
        }
      ]
    },
    {
      "cell_type": "code",
      "metadata": {
        "colab": {
          "base_uri": "https://localhost:8080/"
        },
        "id": "w17AXA6mabdK",
        "outputId": "72efa44b-bbaf-49d9-b52f-c6beb7aae4d8"
      },
      "source": [
        "#from sklearn.metrics import accuracy_score\n",
        "accuracy_score(y_test,y_predict)"
      ],
      "execution_count": 543,
      "outputs": [
        {
          "output_type": "execute_result",
          "data": {
            "text/plain": [
              "0.7631578947368421"
            ]
          },
          "metadata": {},
          "execution_count": 543
        }
      ]
    },
    {
      "cell_type": "code",
      "metadata": {
        "colab": {
          "base_uri": "https://localhost:8080/",
          "height": 298
        },
        "id": "UkVY-0a5abFr",
        "outputId": "02899999-4a5d-4c71-80df-cbbc56370b66"
      },
      "source": [
        "#ploting the confusion matrix\n",
        "sns.heatmap(confusion_matrix(y_test, y_predict), annot=True, fmt='.0f')\n",
        "plt.xlabel('Predicted Values')\n",
        "plt.ylabel('Actual Values')"
      ],
      "execution_count": 544,
      "outputs": [
        {
          "output_type": "execute_result",
          "data": {
            "text/plain": [
              "Text(33.0, 0.5, 'Actual Values')"
            ]
          },
          "metadata": {},
          "execution_count": 544
        },
        {
          "output_type": "display_data",
          "data": {
            "image/png": "[encoded data removed]",
            "text/plain": [
              "<Figure size 432x288 with 2 Axes>"
            ]
          },
          "metadata": {
            "needs_background": "light"
          }
        }
      ]
    },
    {
      "cell_type": "code",
      "metadata": {
        "colab": {
          "base_uri": "https://localhost:8080/"
        },
        "id": "K2rpYISae6gp",
        "outputId": "f0ddd935-f4d1-4cfa-c6d2-7250e1b5ce92"
      },
      "source": [
        "print(classification_report(y_test,y_predict))"
      ],
      "execution_count": 545,
      "outputs": [
        {
          "output_type": "stream",
          "name": "stdout",
          "text": [
            "              precision    recall  f1-score   support\n",
            "\n",
            "           0       1.00      1.00      1.00        15\n",
            "           1       0.56      0.50      0.53        10\n",
            "           2       0.64      0.69      0.67        13\n",
            "\n",
            "    accuracy                           0.76        38\n",
            "   macro avg       0.73      0.73      0.73        38\n",
            "weighted avg       0.76      0.76      0.76        38\n",
            "\n"
          ]
        }
      ]
    },
    {
      "cell_type": "code",
      "metadata": {
        "id": "TGS-HvmDfZ39"
      },
      "source": [
        ""
      ],
      "execution_count": 545,
      "outputs": []
    },
    {
      "cell_type": "code",
      "metadata": {
        "id": "hnHjO2Djjhro"
      },
      "source": [
        "#KNN value and Accuracy\n",
        "from sklearn import metrics\n",
        "score = []\n"
      ],
      "execution_count": 546,
      "outputs": []
    },
    {
      "cell_type": "code",
      "metadata": {
        "id": "WSQaJIA8ksFw"
      },
      "source": [
        "# Calculate score for K values between 1 and 25\n",
        "for i in range(1,25):\n",
        "  knn= KNeighborsClassifier(n_neighbors=i)\n",
        "  knn.fit(x1_train,y_train)\n",
        "  y_predict = knn.predict(x1_test)\n",
        "  score.append(metrics.accuracy_score(y_test,y_predict))"
      ],
      "execution_count": 547,
      "outputs": []
    },
    {
      "cell_type": "code",
      "metadata": {
        "id": "2ZvPG5vPmVq5"
      },
      "source": [
        "#Calculate error rate for K values between 1 and 25\n",
        "import numpy as np\n",
        "error_rate = []\n",
        "for i in range(1,50):\n",
        "  knn= KNeighborsClassifier(n_neighbors=i)\n",
        "  knn.fit(x1_train,y_train)\n",
        "  pred_i = knn.predict(x1_test)\n",
        "  error_rate.append(np.mean(pred_i !=y_test))\n"
      ],
      "execution_count": 548,
      "outputs": []
    },
    {
      "cell_type": "code",
      "metadata": {
        "colab": {
          "base_uri": "https://localhost:8080/",
          "height": 516
        },
        "id": "UQlppTpTgSPG",
        "outputId": "263f3818-4b59-4172-bf12-285ad89df535"
      },
      "source": [
        "#plot k value vs mean error to visualize the relationship between error rate and k value\n",
        "plt.figure(figsize=(10,8))\n",
        "plt.plot(range(1,50), error_rate, color='red', linestyle='dashed', marker='o', markerfacecolor='blue', markersize =10)\n",
        "plt.xlabel('K values')\n",
        "plt.ylabel('Error rate')"
      ],
      "execution_count": 549,
      "outputs": [
        {
          "output_type": "execute_result",
          "data": {
            "text/plain": [
              "Text(0, 0.5, 'Error rate')"
            ]
          },
          "metadata": {},
          "execution_count": 549
        },
        {
          "output_type": "display_data",
          "data": {
            "image/png": "[encoded data removed]",
            "text/plain": [
              "<Figure size 720x576 with 1 Axes>"
            ]
          },
          "metadata": {
            "needs_background": "light"
          }
        }
      ]
    },
    {
      "cell_type": "markdown",
      "metadata": {
        "id": "_T2Kfvr1uuXo"
      },
      "source": [
        "## Scenario 2: Build a model using Petal Attributes only\n",
        "\n",
        "*   petal length (cm)\n",
        "*   petal width (cm)"
      ]
    },
    {
      "cell_type": "code",
      "metadata": {
        "id": "kkbwo1m1ushg",
        "colab": {
          "base_uri": "https://localhost:8080/"
        },
        "outputId": "61b6cd76-d9a1-4092-d572-4c05c8e6410a"
      },
      "source": [
        "X= pd.DataFrame(iris_data.data[:,2:])\n",
        "X.shape"
      ],
      "execution_count": 550,
      "outputs": [
        {
          "output_type": "execute_result",
          "data": {
            "text/plain": [
              "(150, 2)"
            ]
          },
          "metadata": {},
          "execution_count": 550
        }
      ]
    },
    {
      "cell_type": "code",
      "metadata": {
        "id": "XrLBSacid7L_"
      },
      "source": [
        ""
      ],
      "execution_count": 550,
      "outputs": []
    },
    {
      "cell_type": "code",
      "metadata": {
        "id": "kIRDQBbluslv"
      },
      "source": [
        "scalar = StandardScaler()"
      ],
      "execution_count": 551,
      "outputs": []
    },
    {
      "cell_type": "code",
      "metadata": {
        "colab": {
          "base_uri": "https://localhost:8080/"
        },
        "id": "kYECGCgad8Y4",
        "outputId": "beb0057a-0cef-4586-e898-48d1a9c71f73"
      },
      "source": [
        "# fit X using scalar variable\n",
        "scalar.fit(X)"
      ],
      "execution_count": 552,
      "outputs": [
        {
          "output_type": "execute_result",
          "data": {
            "text/plain": [
              "StandardScaler()"
            ]
          },
          "metadata": {},
          "execution_count": 552
        }
      ]
    },
    {
      "cell_type": "code",
      "metadata": {
        "id": "ywKYS0azuspd",
        "colab": {
          "base_uri": "https://localhost:8080/",
          "height": 206
        },
        "outputId": "4f06f474-946d-4a6f-cabf-a9422c8f4b0a"
      },
      "source": [
        "scaled_features = scalar.transform(X)\n",
        "std_data = pd.DataFrame(scaled_features,columns=X.columns)\n",
        "std_data.head()"
      ],
      "execution_count": 553,
      "outputs": [
        {
          "output_type": "execute_result",
          "data": {
            "text/html": [
              "<div>\n",
              "<style scoped>\n",
              "    .dataframe tbody tr th:only-of-type {\n",
              "        vertical-align: middle;\n",
              "    }\n",
              "\n",
              "    .dataframe tbody tr th {\n",
              "        vertical-align: top;\n",
              "    }\n",
              "\n",
              "    .dataframe thead th {\n",
              "        text-align: right;\n",
              "    }\n",
              "</style>\n",
              "<table border=\"1\" class=\"dataframe\">\n",
              "  <thead>\n",
              "    <tr style=\"text-align: right;\">\n",
              "      <th></th>\n",
              "      <th>0</th>\n",
              "      <th>1</th>\n",
              "    </tr>\n",
              "  </thead>\n",
              "  <tbody>\n",
              "    <tr>\n",
              "      <th>0</th>\n",
              "      <td>-1.340227</td>\n",
              "      <td>-1.315444</td>\n",
              "    </tr>\n",
              "    <tr>\n",
              "      <th>1</th>\n",
              "      <td>-1.340227</td>\n",
              "      <td>-1.315444</td>\n",
              "    </tr>\n",
              "    <tr>\n",
              "      <th>2</th>\n",
              "      <td>-1.397064</td>\n",
              "      <td>-1.315444</td>\n",
              "    </tr>\n",
              "    <tr>\n",
              "      <th>3</th>\n",
              "      <td>-1.283389</td>\n",
              "      <td>-1.315444</td>\n",
              "    </tr>\n",
              "    <tr>\n",
              "      <th>4</th>\n",
              "      <td>-1.340227</td>\n",
              "      <td>-1.315444</td>\n",
              "    </tr>\n",
              "  </tbody>\n",
              "</table>\n",
              "</div>"
            ],
            "text/plain": [
              "          0         1\n",
              "0 -1.340227 -1.315444\n",
              "1 -1.340227 -1.315444\n",
              "2 -1.397064 -1.315444\n",
              "3 -1.283389 -1.315444\n",
              "4 -1.340227 -1.315444"
            ]
          },
          "metadata": {},
          "execution_count": 553
        }
      ]
    },
    {
      "cell_type": "code",
      "metadata": {
        "id": "4s3RCbPlusrE",
        "colab": {
          "base_uri": "https://localhost:8080/"
        },
        "outputId": "cad7ff90-f433-4ec5-bbc2-3992cf2006cd"
      },
      "source": [
        "#fitting the model\n",
        "#from sklearn.model_selection import train_test_split\n",
        "x_train, x_test, y_train, y_test = train_test_split(X,y)\n",
        "x_train.shape, x_test.shape, y_train.shape, y_test.shape"
      ],
      "execution_count": 554,
      "outputs": [
        {
          "output_type": "execute_result",
          "data": {
            "text/plain": [
              "((112, 2), (38, 2), (112,), (38,))"
            ]
          },
          "metadata": {},
          "execution_count": 554
        }
      ]
    },
    {
      "cell_type": "code",
      "metadata": {
        "id": "hLgAj5UbalYk"
      },
      "source": [
        "from sklearn.neighbors import KNeighborsClassifier \n",
        "knn1 = KNeighborsClassifier(n_neighbors=1)"
      ],
      "execution_count": 555,
      "outputs": []
    },
    {
      "cell_type": "code",
      "metadata": {
        "colab": {
          "base_uri": "https://localhost:8080/"
        },
        "id": "GCJqV3obalVQ",
        "outputId": "b4b0a1d4-8c7d-44db-e0b2-4ceb56391af7"
      },
      "source": [
        "knn1.fit(x_train, y_train)"
      ],
      "execution_count": 556,
      "outputs": [
        {
          "output_type": "execute_result",
          "data": {
            "text/plain": [
              "KNeighborsClassifier(n_neighbors=1)"
            ]
          },
          "metadata": {},
          "execution_count": 556
        }
      ]
    },
    {
      "cell_type": "code",
      "metadata": {
        "colab": {
          "base_uri": "https://localhost:8080/"
        },
        "id": "1amCg40KalSM",
        "outputId": "13dd1f07-8ce7-4f9a-a335-4e09b5c44e95"
      },
      "source": [
        "# Use the fitted model to make predictions on the test data\n",
        "y_predict = knn1.predict(x_test)\n",
        "# Actual test values \n",
        "y_test[0:10]"
      ],
      "execution_count": 557,
      "outputs": [
        {
          "output_type": "execute_result",
          "data": {
            "text/plain": [
              "array([2, 1, 1, 0, 2, 1, 1, 1, 0, 0])"
            ]
          },
          "metadata": {},
          "execution_count": 557
        }
      ]
    },
    {
      "cell_type": "code",
      "metadata": {
        "colab": {
          "base_uri": "https://localhost:8080/"
        },
        "id": "h_VzQU57alPC",
        "outputId": "c1089ec2-c6b4-4285-dc4a-0c657d868799"
      },
      "source": [
        "#print the score of the model\n",
        "knn1.score(x_test,y_test)"
      ],
      "execution_count": 558,
      "outputs": [
        {
          "output_type": "execute_result",
          "data": {
            "text/plain": [
              "0.9473684210526315"
            ]
          },
          "metadata": {},
          "execution_count": 558
        }
      ]
    },
    {
      "cell_type": "code",
      "metadata": {
        "colab": {
          "base_uri": "https://localhost:8080/"
        },
        "id": "a2uIY69UalLW",
        "outputId": "ecab11c3-52c3-4e4f-e61c-7211ec5346cb"
      },
      "source": [
        "# Fit the test labels and predictions into confusion_matrix\n",
        "#from sklearn.metrics import confusion_matrix,classification_report\n",
        "confusion_matrix(y_test,y_predict)"
      ],
      "execution_count": 559,
      "outputs": [
        {
          "output_type": "execute_result",
          "data": {
            "text/plain": [
              "array([[11,  0,  0],\n",
              "       [ 0, 14,  2],\n",
              "       [ 0,  0, 11]])"
            ]
          },
          "metadata": {},
          "execution_count": 559
        }
      ]
    },
    {
      "cell_type": "code",
      "metadata": {
        "colab": {
          "base_uri": "https://localhost:8080/"
        },
        "id": "8yp5XNhqalF7",
        "outputId": "af8dd5f8-e08d-4837-c432-292adbaa2c06"
      },
      "source": [
        "#from sklearn.metrics import accuracy_score\n",
        "accuracy_score(y_test,y_predict)"
      ],
      "execution_count": 560,
      "outputs": [
        {
          "output_type": "execute_result",
          "data": {
            "text/plain": [
              "0.9473684210526315"
            ]
          },
          "metadata": {},
          "execution_count": 560
        }
      ]
    },
    {
      "cell_type": "code",
      "metadata": {
        "colab": {
          "base_uri": "https://localhost:8080/",
          "height": 302
        },
        "id": "hNO_MGAtalCI",
        "outputId": "49f44865-bbf4-4930-a8db-4016712a5581"
      },
      "source": [
        "#ploting the confusion matrix\n",
        "sns.heatmap(confusion_matrix(y_test, y_predict), annot=True, fmt='.0f', cmap = 'Blues')\n",
        "plt.xlabel('Predicted Values')\n",
        "plt.ylabel('Actual Values')"
      ],
      "execution_count": 561,
      "outputs": [
        {
          "output_type": "execute_result",
          "data": {
            "text/plain": [
              "Text(33.0, 0.5, 'Actual Values')"
            ]
          },
          "metadata": {},
          "execution_count": 561
        },
        {
          "output_type": "display_data",
          "data": {
            "image/png": "[encoded data removed]",
            "text/plain": [
              "<Figure size 432x288 with 2 Axes>"
            ]
          },
          "metadata": {
            "needs_background": "light"
          }
        }
      ]
    },
    {
      "cell_type": "code",
      "metadata": {
        "colab": {
          "base_uri": "https://localhost:8080/"
        },
        "id": "j4zF1vnfak-n",
        "outputId": "c6f903f8-7003-469f-b7f6-e3b640630b30"
      },
      "source": [
        "print(classification_report(y_test,y_predict))"
      ],
      "execution_count": 562,
      "outputs": [
        {
          "output_type": "stream",
          "name": "stdout",
          "text": [
            "              precision    recall  f1-score   support\n",
            "\n",
            "           0       1.00      1.00      1.00        11\n",
            "           1       1.00      0.88      0.93        16\n",
            "           2       0.85      1.00      0.92        11\n",
            "\n",
            "    accuracy                           0.95        38\n",
            "   macro avg       0.95      0.96      0.95        38\n",
            "weighted avg       0.96      0.95      0.95        38\n",
            "\n"
          ]
        }
      ]
    },
    {
      "cell_type": "code",
      "metadata": {
        "id": "t71Tz3ZLak6L"
      },
      "source": [
        ""
      ],
      "execution_count": 562,
      "outputs": []
    },
    {
      "cell_type": "code",
      "metadata": {
        "id": "ZJo77Gb4gjPS"
      },
      "source": [
        "\n",
        "score = []\n"
      ],
      "execution_count": 563,
      "outputs": []
    },
    {
      "cell_type": "code",
      "metadata": {
        "id": "RxsejxvTgjPZ"
      },
      "source": [
        "# Calculate score for K values between 1 and 25\n",
        "for i in range(1,25):\n",
        "  knn1= KNeighborsClassifier(n_neighbors=i)\n",
        "  knn1.fit(x_train,y_train)\n",
        "  y_predict = knn1.predict(x_test)\n",
        "  score.append(metrics.accuracy_score(y_test,y_predict))"
      ],
      "execution_count": 564,
      "outputs": []
    },
    {
      "cell_type": "code",
      "metadata": {
        "id": "BdX6x3NMgjPf"
      },
      "source": [
        "\n",
        "error_rate = []\n",
        "for i in range(1,50):\n",
        "  knn= KNeighborsClassifier(n_neighbors=i)\n",
        "  knn.fit(x_train,y_train)\n",
        "  pred_i = knn.predict(x_test)\n",
        "  error_rate.append(np.mean(pred_i !=y_test))\n"
      ],
      "execution_count": 565,
      "outputs": []
    },
    {
      "cell_type": "code",
      "metadata": {
        "colab": {
          "base_uri": "https://localhost:8080/",
          "height": 516
        },
        "id": "iXfZWV0xak2O",
        "outputId": "018664fb-4f18-435e-a510-7d437f91f089"
      },
      "source": [
        "plt.figure(figsize=(10,8))\n",
        "plt.plot(range(1,50), error_rate, color='red', linestyle='dashed', marker='o', markerfacecolor='blue', markersize =10)\n",
        "plt.xlabel('K values')\n",
        "plt.ylabel('Error rate')"
      ],
      "execution_count": 566,
      "outputs": [
        {
          "output_type": "execute_result",
          "data": {
            "text/plain": [
              "Text(0, 0.5, 'Error rate')"
            ]
          },
          "metadata": {},
          "execution_count": 566
        },
        {
          "output_type": "display_data",
          "data": {
            "image/png": "[encoded data removed]",
            "text/plain": [
              "<Figure size 720x576 with 1 Axes>"
            ]
          },
          "metadata": {
            "needs_background": "light"
          }
        }
      ]
    },
    {
      "cell_type": "code",
      "metadata": {
        "id": "8-G-751wakuj"
      },
      "source": [
        ""
      ],
      "execution_count": 566,
      "outputs": []
    },
    {
      "cell_type": "markdown",
      "metadata": {
        "id": "ULA-g-knu1S7"
      },
      "source": [
        "## Scenario 3: Build a model using Sepal and Petal Attributes (all attributes)\n",
        "\n",
        "*   sepal length (cm)\n",
        "*   sepal width (cm)\n",
        "*   petal length (cm)\n",
        "*   petal width (cm)"
      ]
    },
    {
      "cell_type": "code",
      "metadata": {
        "id": "7ecJ9qZuu2Yf",
        "colab": {
          "base_uri": "https://localhost:8080/"
        },
        "outputId": "86cae994-51d8-434b-dc54-915fa387ff77"
      },
      "source": [
        "X= pd.DataFrame(iris_data.data)\n",
        "X.shape"
      ],
      "execution_count": 567,
      "outputs": [
        {
          "output_type": "execute_result",
          "data": {
            "text/plain": [
              "(150, 4)"
            ]
          },
          "metadata": {},
          "execution_count": 567
        }
      ]
    },
    {
      "cell_type": "code",
      "metadata": {
        "id": "1ZC6YE1Fu6oS"
      },
      "source": [
        "scalar = StandardScaler()"
      ],
      "execution_count": 568,
      "outputs": []
    },
    {
      "cell_type": "code",
      "metadata": {
        "id": "bPcctcSku6rH",
        "colab": {
          "base_uri": "https://localhost:8080/"
        },
        "outputId": "4c1ea9ea-8af0-4777-a11e-6e3946297647"
      },
      "source": [
        "scalar.fit(X)"
      ],
      "execution_count": 569,
      "outputs": [
        {
          "output_type": "execute_result",
          "data": {
            "text/plain": [
              "StandardScaler()"
            ]
          },
          "metadata": {},
          "execution_count": 569
        }
      ]
    },
    {
      "cell_type": "code",
      "metadata": {
        "colab": {
          "base_uri": "https://localhost:8080/"
        },
        "id": "M2G_n-HRh9vq",
        "outputId": "80a6bce4-d150-476a-f634-94e860cc5c4e"
      },
      "source": [
        "\n",
        "x_train, x_test, y_train, y_test = train_test_split(X,y)\n",
        "x_train.shape, x_test.shape, y_train.shape, y_test.shape"
      ],
      "execution_count": 570,
      "outputs": [
        {
          "output_type": "execute_result",
          "data": {
            "text/plain": [
              "((112, 4), (38, 4), (112,), (38,))"
            ]
          },
          "metadata": {},
          "execution_count": 570
        }
      ]
    },
    {
      "cell_type": "code",
      "metadata": {
        "id": "2yh7mDPUh9vu"
      },
      "source": [
        " \n",
        "knn = KNeighborsClassifier(n_neighbors=1)"
      ],
      "execution_count": 571,
      "outputs": []
    },
    {
      "cell_type": "code",
      "metadata": {
        "colab": {
          "base_uri": "https://localhost:8080/"
        },
        "id": "sYpkM6Gbh9vw",
        "outputId": "b949b10b-3213-4bce-f6e5-05ebf1d12d4b"
      },
      "source": [
        "knn.fit(x_train, y_train)"
      ],
      "execution_count": 572,
      "outputs": [
        {
          "output_type": "execute_result",
          "data": {
            "text/plain": [
              "KNeighborsClassifier(n_neighbors=1)"
            ]
          },
          "metadata": {},
          "execution_count": 572
        }
      ]
    },
    {
      "cell_type": "code",
      "metadata": {
        "colab": {
          "base_uri": "https://localhost:8080/"
        },
        "id": "5V4TUu1uh9vy",
        "outputId": "05e7dac9-948a-4218-ac1a-7066ea3e643a"
      },
      "source": [
        "# Use the fitted model to make predictions on the test data\n",
        "y_predict = knn.predict(x_test)\n",
        "# Actual test values \n",
        "y_test[0:10]"
      ],
      "execution_count": 573,
      "outputs": [
        {
          "output_type": "execute_result",
          "data": {
            "text/plain": [
              "array([1, 1, 2, 0, 0, 2, 2, 1, 1, 1])"
            ]
          },
          "metadata": {},
          "execution_count": 573
        }
      ]
    },
    {
      "cell_type": "code",
      "metadata": {
        "colab": {
          "base_uri": "https://localhost:8080/"
        },
        "id": "cw4fh9oFh9vz",
        "outputId": "39ec8d2a-ef73-4da6-825a-2b4cdbea2110"
      },
      "source": [
        "#print the score of the model\n",
        "knn.score(x_test,y_test)"
      ],
      "execution_count": 574,
      "outputs": [
        {
          "output_type": "execute_result",
          "data": {
            "text/plain": [
              "0.9210526315789473"
            ]
          },
          "metadata": {},
          "execution_count": 574
        }
      ]
    },
    {
      "cell_type": "code",
      "metadata": {
        "colab": {
          "base_uri": "https://localhost:8080/"
        },
        "id": "mCoIs_BWh9v0",
        "outputId": "300c94ae-ac14-4b82-a7ca-0bd94faad1cb"
      },
      "source": [
        "# Fit the test labels and predictions into confusion_matrix\n",
        "#from sklearn.metrics import confusion_matrix,classification_report\n",
        "confusion_matrix(y_test,y_predict)"
      ],
      "execution_count": 575,
      "outputs": [
        {
          "output_type": "execute_result",
          "data": {
            "text/plain": [
              "array([[13,  0,  0],\n",
              "       [ 0, 12,  0],\n",
              "       [ 0,  3, 10]])"
            ]
          },
          "metadata": {},
          "execution_count": 575
        }
      ]
    },
    {
      "cell_type": "code",
      "metadata": {
        "colab": {
          "base_uri": "https://localhost:8080/"
        },
        "id": "PE01FW2eh9v1",
        "outputId": "2ed59f9c-7498-4c6e-ec23-c5af97de52ed"
      },
      "source": [
        "#from sklearn.metrics import accuracy_score\n",
        "accuracy_score(y_test,y_predict)"
      ],
      "execution_count": 576,
      "outputs": [
        {
          "output_type": "execute_result",
          "data": {
            "text/plain": [
              "0.9210526315789473"
            ]
          },
          "metadata": {},
          "execution_count": 576
        }
      ]
    },
    {
      "cell_type": "code",
      "metadata": {
        "colab": {
          "base_uri": "https://localhost:8080/",
          "height": 298
        },
        "id": "xLuNpSS0h9v3",
        "outputId": "7929c092-6f71-4a0c-a1bb-66a9a6b9f621"
      },
      "source": [
        "#ploting the confusion matrix\n",
        "sns.heatmap(confusion_matrix(y_test, y_predict), annot=True, fmt='.0f', cmap = 'Blues_r')\n",
        "plt.xlabel('Predicted Values')\n",
        "plt.ylabel('Actual Values')"
      ],
      "execution_count": 577,
      "outputs": [
        {
          "output_type": "execute_result",
          "data": {
            "text/plain": [
              "Text(33.0, 0.5, 'Actual Values')"
            ]
          },
          "metadata": {},
          "execution_count": 577
        },
        {
          "output_type": "display_data",
          "data": {
            "image/png": "[encoded data removed]",
            "text/plain": [
              "<Figure size 432x288 with 2 Axes>"
            ]
          },
          "metadata": {
            "needs_background": "light"
          }
        }
      ]
    },
    {
      "cell_type": "code",
      "metadata": {
        "colab": {
          "base_uri": "https://localhost:8080/"
        },
        "id": "1Luxi7jJjd2W",
        "outputId": "d31fcdd7-85bb-445c-d4d9-68d67a24412e"
      },
      "source": [
        "print(classification_report(y_test,y_predict))"
      ],
      "execution_count": 578,
      "outputs": [
        {
          "output_type": "stream",
          "name": "stdout",
          "text": [
            "              precision    recall  f1-score   support\n",
            "\n",
            "           0       1.00      1.00      1.00        13\n",
            "           1       0.80      1.00      0.89        12\n",
            "           2       1.00      0.77      0.87        13\n",
            "\n",
            "    accuracy                           0.92        38\n",
            "   macro avg       0.93      0.92      0.92        38\n",
            "weighted avg       0.94      0.92      0.92        38\n",
            "\n"
          ]
        }
      ]
    },
    {
      "cell_type": "code",
      "metadata": {
        "id": "ZoHB48y_jd2X"
      },
      "source": [
        "\n",
        "score = []\n"
      ],
      "execution_count": 579,
      "outputs": []
    },
    {
      "cell_type": "code",
      "metadata": {
        "id": "RFHV0Mvsjd2Z"
      },
      "source": [
        "# Calculate score for K values between 1 and 25\n",
        "for i in range(1,25):\n",
        "  knn1= KNeighborsClassifier(n_neighbors=i)\n",
        "  knn1.fit(x_train,y_train)\n",
        "  y_predict = knn1.predict(x_test)\n",
        "  score.append(metrics.accuracy_score(y_test,y_predict))"
      ],
      "execution_count": 580,
      "outputs": []
    },
    {
      "cell_type": "code",
      "metadata": {
        "id": "O3O1bdGQjd2a"
      },
      "source": [
        "\n",
        "error_rate = []\n",
        "for i in range(1,50):\n",
        "  knn= KNeighborsClassifier(n_neighbors=i)\n",
        "  knn.fit(x_train,y_train)\n",
        "  pred_i = knn.predict(x_test)\n",
        "  error_rate.append(np.mean(pred_i !=y_test))\n"
      ],
      "execution_count": 581,
      "outputs": []
    },
    {
      "cell_type": "code",
      "metadata": {
        "colab": {
          "base_uri": "https://localhost:8080/",
          "height": 516
        },
        "id": "e_5ziTlojd2b",
        "outputId": "871e6108-88c5-49fa-ed45-304632fc6147"
      },
      "source": [
        "plt.figure(figsize=(10,8))\n",
        "plt.plot(range(1,50), error_rate, color='red', linestyle='dashed', marker='o', markerfacecolor='blue', markersize =10)\n",
        "plt.xlabel('K values')\n",
        "plt.ylabel('Error rate')"
      ],
      "execution_count": 582,
      "outputs": [
        {
          "output_type": "execute_result",
          "data": {
            "text/plain": [
              "Text(0, 0.5, 'Error rate')"
            ]
          },
          "metadata": {},
          "execution_count": 582
        },
        {
          "output_type": "display_data",
          "data": {
            "image/png": "[encoded data removed]",
            "text/plain": [
              "<Figure size 720x576 with 1 Axes>"
            ]
          },
          "metadata": {
            "needs_background": "light"
          }
        }
      ]
    },
    {
      "cell_type": "markdown",
      "metadata": {
        "id": "5WQTVuRO39EQ"
      },
      "source": [
        "# Bonus Points: Decision Tree"
      ]
    },
    {
      "cell_type": "markdown",
      "metadata": {
        "id": "TAqUp81l4KvZ"
      },
      "source": [
        "## Build decision tree for Scenario 2\n"
      ]
    },
    {
      "cell_type": "code",
      "metadata": {
        "id": "vn3xFIc94tEY"
      },
      "source": [
        "from sklearn.tree import DecisionTreeClassifier\n",
        "import pydotplus, graphviz\n",
        "from sklearn import tree\n",
        "from IPython.display import Image"
      ],
      "execution_count": 583,
      "outputs": []
    },
    {
      "cell_type": "code",
      "metadata": {
        "id": "q2dby29G4UVe"
      },
      "source": [
        "# hint\n",
        "# choose decision tree max depth=2\n",
        "# X= iris_data.data[:,2:]\n",
        "# y=iris_data.target\n",
        "# dot_img = tree.export_graphviz(dt_clf,out_file='iris_tree.dot',feature_names=iris_data.feature_names[2:],class_names=iris_data.target_names,filled=True,rounded=True)\n",
        "# tree_graph = pydotplus.graph_from_dot_file('iris_tree.dot')\n",
        "# Image(tree_graph.create_png())"
      ],
      "execution_count": 584,
      "outputs": []
    },
    {
      "cell_type": "markdown",
      "metadata": {
        "id": "Rwvr0TZz5A1k"
      },
      "source": [
        "Print Decision Tree and write your interpretation for it"
      ]
    },
    {
      "cell_type": "markdown",
      "metadata": {
        "id": "nyelyrNc9wLP"
      },
      "source": [
        ""
      ]
    },
    {
      "cell_type": "code",
      "metadata": {
        "id": "3lIJXQ7B4Vwn"
      },
      "source": [
        ""
      ],
      "execution_count": 584,
      "outputs": []
    },
    {
      "cell_type": "markdown",
      "metadata": {
        "id": "E-uXBAfNu7eN"
      },
      "source": [
        "# Model Comparison"
      ]
    },
    {
      "cell_type": "markdown",
      "metadata": {
        "id": "E9XICkzikmps"
      },
      "source": [
        "- Logistic regression model has  score on f1-score .74 and on scenario 1, .95 on scenario 2 and .97 on scenario 3. \n",
        "- Logistic model better prediction at 97% when all the features are used. \n",
        " \n",
        "- KNN model has an accuracy score of .76 with a minimum error rate at k = 26 in scenario 1. \n",
        "- KNN model has an accuracy score of .95 with a minimum error rate at k = 1 in scenario 2. \n",
        "- KNN model has an accuracy score of .92 with a minimum error rate at k = 9 in scenario 3. \n",
        ".\n",
        "- KNN model makes better prediction in scenario 2 with a lower minimum rate a k = 1.\n",
        "\n"
      ]
    },
    {
      "cell_type": "code",
      "metadata": {
        "id": "SBJttwi1vBZ4"
      },
      "source": [
        ""
      ],
      "execution_count": 588,
      "outputs": []
    },
    {
      "cell_type": "code",
      "metadata": {
        "id": "sa0mXy6MvBcs"
      },
      "source": [
        ""
      ],
      "execution_count": 584,
      "outputs": []
    },
    {
      "cell_type": "markdown",
      "metadata": {
        "id": "j0tO6mYXu_sZ"
      },
      "source": [
        ""
      ]
    },
    {
      "cell_type": "markdown",
      "metadata": {
        "id": "8iRZRzjkvD_f"
      },
      "source": [
        "# Model Selection"
      ]
    },
    {
      "cell_type": "code",
      "metadata": {
        "id": "1BGSM65YvIH_"
      },
      "source": [
        ""
      ],
      "execution_count": 584,
      "outputs": []
    },
    {
      "cell_type": "markdown",
      "metadata": {
        "id": "sK09N2zarbtj"
      },
      "source": [
        "From the above, Logistic regression score better that KNN. So, I select Logistic regression."
      ]
    },
    {
      "cell_type": "markdown",
      "metadata": {
        "id": "zRVTFlDWvIrR"
      },
      "source": [
        ""
      ]
    },
    {
      "cell_type": "markdown",
      "metadata": {
        "id": "v0QViQ5mvJPN"
      },
      "source": [
        "# Summary and Conclusion"
      ]
    },
    {
      "cell_type": "code",
      "metadata": {
        "id": "17baSFEUvL_v"
      },
      "source": [
        ""
      ],
      "execution_count": 584,
      "outputs": []
    },
    {
      "cell_type": "markdown",
      "metadata": {
        "id": "cUn0lUyovMy4"
      },
      "source": [
        "\n",
        "From the above, all models in different scenario have similar results. But Logistic Regression is the most efficient approach."
      ]
    }
  ]
}