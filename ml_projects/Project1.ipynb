{
  "nbformat": 4,
  "nbformat_minor": 0,
  "metadata": {
    "colab": {
      "name": "Untitled8.ipynb",
      "provenance": [],
      "authorship_tag": "ABX9TyMYGIFlXxZ0NsJ6mPeARlEg",
      "include_colab_link": true
    },
    "kernelspec": {
      "name": "python3",
      "display_name": "Python 3"
    },
    "language_info": {
      "name": "python"
    }
  },
  "cells": [
    {
      "cell_type": "markdown",
      "metadata": {
        "id": "view-in-github",
        "colab_type": "text"
      },
      "source": [
        "<a href=\"https://colab.research.google.com/github/robajo12/data301_predictive_analytics_machine_learning/blob/main/ml_projects/Project1.ipynb\" target=\"_parent\"><img src=\"https://colab.research.google.com/assets/colab-badge.svg\" alt=\"Open In Colab\"/></a>"
      ]
    },
    {
      "cell_type": "markdown",
      "metadata": {
        "id": "gtI4Lm3EmCa5"
      },
      "source": [
        "### Research Questions"
      ]
    },
    {
      "cell_type": "markdown",
      "metadata": {
        "id": "GknJoD0WmfRP"
      },
      "source": [
        "+ how likely people's daily time spent on site influence their choice on clicking on Ads?\n",
        "+ what  is the age of people likely to clique on Ads?\n"
      ]
    },
    {
      "cell_type": "markdown",
      "metadata": {
        "id": "hmMfjFBvufwi"
      },
      "source": [
        "## Environment Set up"
      ]
    },
    {
      "cell_type": "code",
      "metadata": {
        "id": "2xkp1S9v4HbP"
      },
      "source": [
        "#import required libraries\n",
        "import pandas as pd\n",
        "import numpy as np\n",
        "import seaborn as sns\n",
        "import matplotlib.pyplot as plt"
      ],
      "execution_count": null,
      "outputs": []
    },
    {
      "cell_type": "markdown",
      "metadata": {
        "id": "juEgYFzYusfa"
      },
      "source": [
        "## Data Acquisition"
      ]
    },
    {
      "cell_type": "code",
      "metadata": {
        "colab": {
          "base_uri": "https://localhost:8080/",
          "height": 469
        },
        "id": "izG9V63P53Rs",
        "outputId": "df09a47a-66b0-4df3-84f1-4f8be9981468"
      },
      "source": [
        "adv_df= pd.read_csv('https://raw.githubusercontent.com/niteen11/data301_predictive_analytics_machine_learning/main/data/advertising.csv')\n",
        "adv_df.head()"
      ],
      "execution_count": null,
      "outputs": [
        {
          "output_type": "execute_result",
          "data": {
            "text/html": [
              "<div>\n",
              "<style scoped>\n",
              "    .dataframe tbody tr th:only-of-type {\n",
              "        vertical-align: middle;\n",
              "    }\n",
              "\n",
              "    .dataframe tbody tr th {\n",
              "        vertical-align: top;\n",
              "    }\n",
              "\n",
              "    .dataframe thead th {\n",
              "        text-align: right;\n",
              "    }\n",
              "</style>\n",
              "<table border=\"1\" class=\"dataframe\">\n",
              "  <thead>\n",
              "    <tr style=\"text-align: right;\">\n",
              "      <th></th>\n",
              "      <th>Daily Time Spent on Site</th>\n",
              "      <th>Age</th>\n",
              "      <th>Area Income</th>\n",
              "      <th>Daily Internet Usage</th>\n",
              "      <th>Ad Topic Line</th>\n",
              "      <th>City</th>\n",
              "      <th>Male</th>\n",
              "      <th>Country</th>\n",
              "      <th>Timestamp</th>\n",
              "      <th>Clicked on Ad</th>\n",
              "    </tr>\n",
              "  </thead>\n",
              "  <tbody>\n",
              "    <tr>\n",
              "      <th>0</th>\n",
              "      <td>68.95</td>\n",
              "      <td>35</td>\n",
              "      <td>61833.90</td>\n",
              "      <td>256.09</td>\n",
              "      <td>Cloned 5thgeneration orchestration</td>\n",
              "      <td>Wrightburgh</td>\n",
              "      <td>0</td>\n",
              "      <td>Tunisia</td>\n",
              "      <td>2016-03-27 00:53:11</td>\n",
              "      <td>0</td>\n",
              "    </tr>\n",
              "    <tr>\n",
              "      <th>1</th>\n",
              "      <td>80.23</td>\n",
              "      <td>31</td>\n",
              "      <td>68441.85</td>\n",
              "      <td>193.77</td>\n",
              "      <td>Monitored national standardization</td>\n",
              "      <td>West Jodi</td>\n",
              "      <td>1</td>\n",
              "      <td>Nauru</td>\n",
              "      <td>2016-04-04 01:39:02</td>\n",
              "      <td>0</td>\n",
              "    </tr>\n",
              "    <tr>\n",
              "      <th>2</th>\n",
              "      <td>69.47</td>\n",
              "      <td>26</td>\n",
              "      <td>59785.94</td>\n",
              "      <td>236.50</td>\n",
              "      <td>Organic bottom-line service-desk</td>\n",
              "      <td>Davidton</td>\n",
              "      <td>0</td>\n",
              "      <td>San Marino</td>\n",
              "      <td>2016-03-13 20:35:42</td>\n",
              "      <td>0</td>\n",
              "    </tr>\n",
              "    <tr>\n",
              "      <th>3</th>\n",
              "      <td>74.15</td>\n",
              "      <td>29</td>\n",
              "      <td>54806.18</td>\n",
              "      <td>245.89</td>\n",
              "      <td>Triple-buffered reciprocal time-frame</td>\n",
              "      <td>West Terrifurt</td>\n",
              "      <td>1</td>\n",
              "      <td>Italy</td>\n",
              "      <td>2016-01-10 02:31:19</td>\n",
              "      <td>0</td>\n",
              "    </tr>\n",
              "    <tr>\n",
              "      <th>4</th>\n",
              "      <td>68.37</td>\n",
              "      <td>35</td>\n",
              "      <td>73889.99</td>\n",
              "      <td>225.58</td>\n",
              "      <td>Robust logistical utilization</td>\n",
              "      <td>South Manuel</td>\n",
              "      <td>0</td>\n",
              "      <td>Iceland</td>\n",
              "      <td>2016-06-03 03:36:18</td>\n",
              "      <td>0</td>\n",
              "    </tr>\n",
              "  </tbody>\n",
              "</table>\n",
              "</div>"
            ],
            "text/plain": [
              "   Daily Time Spent on Site  Age  ...            Timestamp  Clicked on Ad\n",
              "0                     68.95   35  ...  2016-03-27 00:53:11              0\n",
              "1                     80.23   31  ...  2016-04-04 01:39:02              0\n",
              "2                     69.47   26  ...  2016-03-13 20:35:42              0\n",
              "3                     74.15   29  ...  2016-01-10 02:31:19              0\n",
              "4                     68.37   35  ...  2016-06-03 03:36:18              0\n",
              "\n",
              "[5 rows x 10 columns]"
            ]
          },
          "metadata": {},
          "execution_count": 41
        }
      ]
    },
    {
      "cell_type": "markdown",
      "metadata": {
        "id": "gDkEGTC0vOHB"
      },
      "source": [
        "## Data Wrangling"
      ]
    },
    {
      "cell_type": "code",
      "metadata": {
        "colab": {
          "base_uri": "https://localhost:8080/"
        },
        "id": "3fGbnsgSFAda",
        "outputId": "78e24d9c-d7f5-4915-a63c-650486e14f30"
      },
      "source": [
        "adv_df['Male'].unique()"
      ],
      "execution_count": null,
      "outputs": [
        {
          "output_type": "execute_result",
          "data": {
            "text/plain": [
              "array([0, 1])"
            ]
          },
          "metadata": {},
          "execution_count": 42
        }
      ]
    },
    {
      "cell_type": "code",
      "metadata": {
        "colab": {
          "base_uri": "https://localhost:8080/"
        },
        "id": "6tF1pvr0FSPV",
        "outputId": "2aa34405-70e6-42fa-be26-7239940afa91"
      },
      "source": [
        "adv_df['Clicked on Ad'].unique()"
      ],
      "execution_count": null,
      "outputs": [
        {
          "output_type": "execute_result",
          "data": {
            "text/plain": [
              "array([0, 1])"
            ]
          },
          "metadata": {},
          "execution_count": 43
        }
      ]
    },
    {
      "cell_type": "code",
      "metadata": {
        "colab": {
          "base_uri": "https://localhost:8080/"
        },
        "id": "7tY_BkB3Aqms",
        "outputId": "3953168f-dbf1-451e-e105-5b7c9f05bfce"
      },
      "source": [
        "adv_df.columns"
      ],
      "execution_count": null,
      "outputs": [
        {
          "output_type": "execute_result",
          "data": {
            "text/plain": [
              "Index(['Daily Time Spent on Site', 'Age', 'Area Income',\n",
              "       'Daily Internet Usage', 'Male', 'Clicked on Ad'],\n",
              "      dtype='object')"
            ]
          },
          "metadata": {},
          "execution_count": 201
        }
      ]
    },
    {
      "cell_type": "code",
      "metadata": {
        "colab": {
          "base_uri": "https://localhost:8080/"
        },
        "id": "1qV0hrWpA19O",
        "outputId": "c22a6900-764f-4ce4-8a08-67b2404e3534"
      },
      "source": [
        "adv_df.isnull().sum()"
      ],
      "execution_count": null,
      "outputs": [
        {
          "output_type": "execute_result",
          "data": {
            "text/plain": [
              "Daily Time Spent on Site    0\n",
              "Age                         0\n",
              "Area Income                 0\n",
              "Daily Internet Usage        0\n",
              "Ad Topic Line               0\n",
              "City                        0\n",
              "Male                        0\n",
              "Country                     0\n",
              "Timestamp                   0\n",
              "Clicked on Ad               0\n",
              "dtype: int64"
            ]
          },
          "metadata": {},
          "execution_count": 45
        }
      ]
    },
    {
      "cell_type": "code",
      "metadata": {
        "id": "zq_ejw2oaqYE",
        "colab": {
          "base_uri": "https://localhost:8080/",
          "height": 223
        },
        "outputId": "035d3f4c-0645-455f-e708-f70613e59360"
      },
      "source": [
        "# dropping unnecessary columns\n",
        "adv_df.drop(columns=['City', 'Ad Topic Line', 'Country','Timestamp'],inplace=True)\n",
        "adv_df.head()"
      ],
      "execution_count": null,
      "outputs": [
        {
          "output_type": "execute_result",
          "data": {
            "text/html": [
              "<div>\n",
              "<style scoped>\n",
              "    .dataframe tbody tr th:only-of-type {\n",
              "        vertical-align: middle;\n",
              "    }\n",
              "\n",
              "    .dataframe tbody tr th {\n",
              "        vertical-align: top;\n",
              "    }\n",
              "\n",
              "    .dataframe thead th {\n",
              "        text-align: right;\n",
              "    }\n",
              "</style>\n",
              "<table border=\"1\" class=\"dataframe\">\n",
              "  <thead>\n",
              "    <tr style=\"text-align: right;\">\n",
              "      <th></th>\n",
              "      <th>Daily Time Spent on Site</th>\n",
              "      <th>Age</th>\n",
              "      <th>Area Income</th>\n",
              "      <th>Daily Internet Usage</th>\n",
              "      <th>Male</th>\n",
              "      <th>Clicked on Ad</th>\n",
              "    </tr>\n",
              "  </thead>\n",
              "  <tbody>\n",
              "    <tr>\n",
              "      <th>0</th>\n",
              "      <td>68.95</td>\n",
              "      <td>35</td>\n",
              "      <td>61833.90</td>\n",
              "      <td>256.09</td>\n",
              "      <td>0</td>\n",
              "      <td>0</td>\n",
              "    </tr>\n",
              "    <tr>\n",
              "      <th>1</th>\n",
              "      <td>80.23</td>\n",
              "      <td>31</td>\n",
              "      <td>68441.85</td>\n",
              "      <td>193.77</td>\n",
              "      <td>1</td>\n",
              "      <td>0</td>\n",
              "    </tr>\n",
              "    <tr>\n",
              "      <th>2</th>\n",
              "      <td>69.47</td>\n",
              "      <td>26</td>\n",
              "      <td>59785.94</td>\n",
              "      <td>236.50</td>\n",
              "      <td>0</td>\n",
              "      <td>0</td>\n",
              "    </tr>\n",
              "    <tr>\n",
              "      <th>3</th>\n",
              "      <td>74.15</td>\n",
              "      <td>29</td>\n",
              "      <td>54806.18</td>\n",
              "      <td>245.89</td>\n",
              "      <td>1</td>\n",
              "      <td>0</td>\n",
              "    </tr>\n",
              "    <tr>\n",
              "      <th>4</th>\n",
              "      <td>68.37</td>\n",
              "      <td>35</td>\n",
              "      <td>73889.99</td>\n",
              "      <td>225.58</td>\n",
              "      <td>0</td>\n",
              "      <td>0</td>\n",
              "    </tr>\n",
              "  </tbody>\n",
              "</table>\n",
              "</div>"
            ],
            "text/plain": [
              "   Daily Time Spent on Site  Age  ...  Male  Clicked on Ad\n",
              "0                     68.95   35  ...     0              0\n",
              "1                     80.23   31  ...     1              0\n",
              "2                     69.47   26  ...     0              0\n",
              "3                     74.15   29  ...     1              0\n",
              "4                     68.37   35  ...     0              0\n",
              "\n",
              "[5 rows x 6 columns]"
            ]
          },
          "metadata": {},
          "execution_count": 46
        }
      ]
    },
    {
      "cell_type": "markdown",
      "metadata": {
        "id": "N6HZaOsdid3u"
      },
      "source": [
        "## Exploratory Data Analysis"
      ]
    },
    {
      "cell_type": "code",
      "metadata": {
        "colab": {
          "base_uri": "https://localhost:8080/",
          "height": 298
        },
        "id": "jx8NoqvHjAL-",
        "outputId": "5a6f83ea-0e81-4570-8981-5848641e7e58"
      },
      "source": [
        "# Ploting cliqued on ad by gender\n",
        "sns.set_style('whitegrid')\n",
        "sns.countplot(x='Male', hue='Clicked on Ad', data=adv_df)"
      ],
      "execution_count": null,
      "outputs": [
        {
          "output_type": "execute_result",
          "data": {
            "text/plain": [
              "<matplotlib.axes._subplots.AxesSubplot at 0x7faeb8c92ed0>"
            ]
          },
          "metadata": {},
          "execution_count": 22
        },
        {
          "output_type": "display_data",
          "data": {
            "image/png": "[encoded data removed]",
            "text/plain": [
              "<Figure size 432x288 with 1 Axes>"
            ]
          },
          "metadata": {}
        }
      ]
    },
    {
      "cell_type": "code",
      "metadata": {
        "colab": {
          "base_uri": "https://localhost:8080/",
          "height": 355
        },
        "id": "u0V7LhD1xujJ",
        "outputId": "213228fc-506b-4cd1-fcd6-68befc1217cc"
      },
      "source": [
        "sns.distplot(adv_df['Age'].dropna(), kde=False, bins=30)"
      ],
      "execution_count": null,
      "outputs": [
        {
          "output_type": "stream",
          "name": "stderr",
          "text": [
            "/usr/local/lib/python3.7/dist-packages/seaborn/distributions.py:2619: FutureWarning: `distplot` is a deprecated function and will be removed in a future version. Please adapt your code to use either `displot` (a figure-level function with similar flexibility) or `histplot` (an axes-level function for histograms).\n",
            "  warnings.warn(msg, FutureWarning)\n"
          ]
        },
        {
          "output_type": "execute_result",
          "data": {
            "text/plain": [
              "<matplotlib.axes._subplots.AxesSubplot at 0x7faea85a5490>"
            ]
          },
          "metadata": {},
          "execution_count": 50
        },
        {
          "output_type": "display_data",
          "data": {
            "image/png": "[encoded data removed]",
            "text/plain": [
              "<Figure size 432x288 with 1 Axes>"
            ]
          },
          "metadata": {}
        }
      ]
    },
    {
      "cell_type": "markdown",
      "metadata": {
        "id": "zCAJS1mUkHUS"
      },
      "source": [
        ""
      ]
    },
    {
      "cell_type": "code",
      "metadata": {
        "colab": {
          "base_uri": "https://localhost:8080/",
          "height": 401
        },
        "id": "lkwF5FDUi__k",
        "outputId": "bd068e7d-236c-4144-d048-8a63d62870b6"
      },
      "source": [
        "sns.heatmap(adv_df.corr(),annot=True)"
      ],
      "execution_count": null,
      "outputs": [
        {
          "output_type": "execute_result",
          "data": {
            "text/plain": [
              "<matplotlib.axes._subplots.AxesSubplot at 0x7faea9477690>"
            ]
          },
          "metadata": {},
          "execution_count": 38
        },
        {
          "output_type": "display_data",
          "data": {
            "image/png": "[encoded data removed]",
            "text/plain": [
              "<Figure size 432x288 with 2 Axes>"
            ]
          },
          "metadata": {}
        }
      ]
    },
    {
      "cell_type": "markdown",
      "metadata": {
        "id": "zdgHgN-CuSRE"
      },
      "source": [
        "#### Observation#\n",
        "- There is a strong positive correlation between Daily time spent on site and Daily internet usage and between age and cliqued on Ad.\n",
        "- There is a negative correlation between Daily internet Usage and cliqued on Ad."
      ]
    },
    {
      "cell_type": "markdown",
      "metadata": {
        "id": "Vs6XD2uExUXE"
      },
      "source": [
        "## Building the machine Learning models "
      ]
    },
    {
      "cell_type": "code",
      "metadata": {
        "colab": {
          "base_uri": "https://localhost:8080/",
          "height": 206
        },
        "id": "7tWS-Ou8i_x_",
        "outputId": "2d77de87-2b6e-4066-e9fb-c3d921a8d7ae"
      },
      "source": [
        "X = adv_df[['Daily Time Spent on Site','Age', 'Area Income',\n",
        "       'Daily Internet Usage']]\n",
        "X.head()"
      ],
      "execution_count": null,
      "outputs": [
        {
          "output_type": "execute_result",
          "data": {
            "text/html": [
              "<div>\n",
              "<style scoped>\n",
              "    .dataframe tbody tr th:only-of-type {\n",
              "        vertical-align: middle;\n",
              "    }\n",
              "\n",
              "    .dataframe tbody tr th {\n",
              "        vertical-align: top;\n",
              "    }\n",
              "\n",
              "    .dataframe thead th {\n",
              "        text-align: right;\n",
              "    }\n",
              "</style>\n",
              "<table border=\"1\" class=\"dataframe\">\n",
              "  <thead>\n",
              "    <tr style=\"text-align: right;\">\n",
              "      <th></th>\n",
              "      <th>Daily Time Spent on Site</th>\n",
              "      <th>Age</th>\n",
              "      <th>Area Income</th>\n",
              "      <th>Daily Internet Usage</th>\n",
              "    </tr>\n",
              "  </thead>\n",
              "  <tbody>\n",
              "    <tr>\n",
              "      <th>0</th>\n",
              "      <td>68.95</td>\n",
              "      <td>35</td>\n",
              "      <td>61833.90</td>\n",
              "      <td>256.09</td>\n",
              "    </tr>\n",
              "    <tr>\n",
              "      <th>1</th>\n",
              "      <td>80.23</td>\n",
              "      <td>31</td>\n",
              "      <td>68441.85</td>\n",
              "      <td>193.77</td>\n",
              "    </tr>\n",
              "    <tr>\n",
              "      <th>2</th>\n",
              "      <td>69.47</td>\n",
              "      <td>26</td>\n",
              "      <td>59785.94</td>\n",
              "      <td>236.50</td>\n",
              "    </tr>\n",
              "    <tr>\n",
              "      <th>3</th>\n",
              "      <td>74.15</td>\n",
              "      <td>29</td>\n",
              "      <td>54806.18</td>\n",
              "      <td>245.89</td>\n",
              "    </tr>\n",
              "    <tr>\n",
              "      <th>4</th>\n",
              "      <td>68.37</td>\n",
              "      <td>35</td>\n",
              "      <td>73889.99</td>\n",
              "      <td>225.58</td>\n",
              "    </tr>\n",
              "  </tbody>\n",
              "</table>\n",
              "</div>"
            ],
            "text/plain": [
              "   Daily Time Spent on Site  Age  Area Income  Daily Internet Usage\n",
              "0                     68.95   35     61833.90                256.09\n",
              "1                     80.23   31     68441.85                193.77\n",
              "2                     69.47   26     59785.94                236.50\n",
              "3                     74.15   29     54806.18                245.89\n",
              "4                     68.37   35     73889.99                225.58"
            ]
          },
          "metadata": {},
          "execution_count": 62
        }
      ]
    },
    {
      "cell_type": "code",
      "metadata": {
        "colab": {
          "base_uri": "https://localhost:8080/",
          "height": 206
        },
        "id": "wo1k6Vaei_i9",
        "outputId": "76c73faf-cf5b-4106-8833-3362ddd6e324"
      },
      "source": [
        "y=adv_df[['Clicked on Ad']]\n",
        "y.head()"
      ],
      "execution_count": null,
      "outputs": [
        {
          "output_type": "execute_result",
          "data": {
            "text/html": [
              "<div>\n",
              "<style scoped>\n",
              "    .dataframe tbody tr th:only-of-type {\n",
              "        vertical-align: middle;\n",
              "    }\n",
              "\n",
              "    .dataframe tbody tr th {\n",
              "        vertical-align: top;\n",
              "    }\n",
              "\n",
              "    .dataframe thead th {\n",
              "        text-align: right;\n",
              "    }\n",
              "</style>\n",
              "<table border=\"1\" class=\"dataframe\">\n",
              "  <thead>\n",
              "    <tr style=\"text-align: right;\">\n",
              "      <th></th>\n",
              "      <th>Clicked on Ad</th>\n",
              "    </tr>\n",
              "  </thead>\n",
              "  <tbody>\n",
              "    <tr>\n",
              "      <th>0</th>\n",
              "      <td>0</td>\n",
              "    </tr>\n",
              "    <tr>\n",
              "      <th>1</th>\n",
              "      <td>0</td>\n",
              "    </tr>\n",
              "    <tr>\n",
              "      <th>2</th>\n",
              "      <td>0</td>\n",
              "    </tr>\n",
              "    <tr>\n",
              "      <th>3</th>\n",
              "      <td>0</td>\n",
              "    </tr>\n",
              "    <tr>\n",
              "      <th>4</th>\n",
              "      <td>0</td>\n",
              "    </tr>\n",
              "  </tbody>\n",
              "</table>\n",
              "</div>"
            ],
            "text/plain": [
              "   Clicked on Ad\n",
              "0              0\n",
              "1              0\n",
              "2              0\n",
              "3              0\n",
              "4              0"
            ]
          },
          "metadata": {},
          "execution_count": 127
        }
      ]
    },
    {
      "cell_type": "markdown",
      "metadata": {
        "id": "QLrOBNfSUenB"
      },
      "source": [
        "##### -- Logistic Regression"
      ]
    },
    {
      "cell_type": "code",
      "metadata": {
        "id": "cI3192wvU0Vl"
      },
      "source": [
        "#Import LogisticRegression from sklearn's linear_model\n",
        "from sklearn.linear_model import LogisticRegression\n",
        "logReg = LogisticRegression()"
      ],
      "execution_count": null,
      "outputs": []
    },
    {
      "cell_type": "code",
      "metadata": {
        "colab": {
          "base_uri": "https://localhost:8080/"
        },
        "id": "_OgVvJ1NU0EK",
        "outputId": "7b6cc4cc-afd1-43c0-c94b-f65e64130bc0"
      },
      "source": [
        "# Import train_test_split from sklearn's model_selection module\n",
        "from sklearn.model_selection import train_test_split\n",
        "# Split X and y into train and test sets and view the diffrents shape\n",
        "x_train, x_test, y_train, y_test = train_test_split(X,y)\n",
        "print(X_train.shape,X_test.shape, y_train.shape, y_test.shape)"
      ],
      "execution_count": null,
      "outputs": [
        {
          "output_type": "stream",
          "name": "stdout",
          "text": [
            "(750, 4) (250, 4) (750, 1) (250, 1)\n"
          ]
        }
      ]
    },
    {
      "cell_type": "code",
      "metadata": {
        "colab": {
          "base_uri": "https://localhost:8080/"
        },
        "id": "sNknq_AdUz-o",
        "outputId": "87deffde-f16d-4ecc-88b9-a4738b583865"
      },
      "source": [
        "# Fit the LogisticRegression to the training data\n",
        "logReg.fit(x_train,y_train)\n",
        "\n"
      ],
      "execution_count": null,
      "outputs": [
        {
          "output_type": "stream",
          "name": "stderr",
          "text": [
            "/usr/local/lib/python3.7/dist-packages/sklearn/utils/validation.py:760: DataConversionWarning: A column-vector y was passed when a 1d array was expected. Please change the shape of y to (n_samples, ), for example using ravel().\n",
            "  y = column_or_1d(y, warn=True)\n"
          ]
        },
        {
          "output_type": "execute_result",
          "data": {
            "text/plain": [
              "LogisticRegression(C=1.0, class_weight=None, dual=False, fit_intercept=True,\n",
              "                   intercept_scaling=1, l1_ratio=None, max_iter=100,\n",
              "                   multi_class='auto', n_jobs=None, penalty='l2',\n",
              "                   random_state=None, solver='lbfgs', tol=0.0001, verbose=0,\n",
              "                   warm_start=False)"
            ]
          },
          "metadata": {},
          "execution_count": 151
        }
      ]
    },
    {
      "cell_type": "code",
      "metadata": {
        "colab": {
          "base_uri": "https://localhost:8080/"
        },
        "id": "Lo3PYW83Uz4m",
        "outputId": "0fa886b2-3388-417f-eb65-b114d1e5285d"
      },
      "source": [
        "# Use the fitted model to make predictions on the test data\n",
        "y_pred = logReg.predict(x_test)\n",
        "y_test.values[0:10]"
      ],
      "execution_count": null,
      "outputs": [
        {
          "output_type": "execute_result",
          "data": {
            "text/plain": [
              "array([[0],\n",
              "       [0],\n",
              "       [1],\n",
              "       [1],\n",
              "       [1],\n",
              "       [0],\n",
              "       [1],\n",
              "       [0],\n",
              "       [0],\n",
              "       [0]])"
            ]
          },
          "metadata": {},
          "execution_count": 152
        }
      ]
    },
    {
      "cell_type": "code",
      "metadata": {
        "colab": {
          "base_uri": "https://localhost:8080/"
        },
        "id": "1gRpepWQUzmJ",
        "outputId": "5de30dbf-4895-4c60-a38c-9b6874e5dfc0"
      },
      "source": [
        "y_pred[0:10]"
      ],
      "execution_count": null,
      "outputs": [
        {
          "output_type": "execute_result",
          "data": {
            "text/plain": [
              "array([0, 0, 1, 1, 1, 0, 1, 0, 1, 0])"
            ]
          },
          "metadata": {},
          "execution_count": 153
        }
      ]
    },
    {
      "cell_type": "code",
      "metadata": {
        "colab": {
          "base_uri": "https://localhost:8080/"
        },
        "id": "vPl5jRwXUzis",
        "outputId": "309f9858-c283-48d0-de5b-0b8fe3fd00b6"
      },
      "source": [
        "#print the score of the model\n",
        "logReg.score(x_test,y_test)"
      ],
      "execution_count": null,
      "outputs": [
        {
          "output_type": "execute_result",
          "data": {
            "text/plain": [
              "0.888"
            ]
          },
          "metadata": {},
          "execution_count": 154
        }
      ]
    },
    {
      "cell_type": "code",
      "metadata": {
        "colab": {
          "base_uri": "https://localhost:8080/"
        },
        "id": "EhA2UKiuUzcJ",
        "outputId": "3573b622-ff9d-4771-fd10-35f0756f48e1"
      },
      "source": [
        "#print the accuracy score of the model\n",
        "from sklearn.metrics import accuracy_score\n",
        "accuracy_score(y_test,y_pred)"
      ],
      "execution_count": null,
      "outputs": [
        {
          "output_type": "execute_result",
          "data": {
            "text/plain": [
              "0.888"
            ]
          },
          "metadata": {},
          "execution_count": 155
        }
      ]
    },
    {
      "cell_type": "code",
      "metadata": {
        "colab": {
          "base_uri": "https://localhost:8080/"
        },
        "id": "E1R4fo6-WQJW",
        "outputId": "dd08b7ee-0a1d-4208-98e6-73b1f59b9199"
      },
      "source": [
        "# Import confusion_matrix from sklearn's metrics module and print the matrix\n",
        "from sklearn.metrics import confusion_matrix\n",
        "confusion_matrix(y_test,y_pred)"
      ],
      "execution_count": null,
      "outputs": [
        {
          "output_type": "execute_result",
          "data": {
            "text/plain": [
              "array([[127,  13],\n",
              "       [ 15,  95]])"
            ]
          },
          "metadata": {},
          "execution_count": 156
        }
      ]
    },
    {
      "cell_type": "code",
      "metadata": {
        "colab": {
          "base_uri": "https://localhost:8080/",
          "height": 298
        },
        "id": "_DzNbIKDWPkg",
        "outputId": "32c04c9c-b54a-4542-ad82-52f22f67523d"
      },
      "source": [
        "#ploting the confusion matrix\n",
        "sns.heatmap(confusion_matrix(y_test, y_pred), annot=True, fmt='.0f')\n",
        "plt.xlabel('Predicted Values')\n",
        "plt.ylabel('Actual Values')"
      ],
      "execution_count": null,
      "outputs": [
        {
          "output_type": "execute_result",
          "data": {
            "text/plain": [
              "Text(33.0, 0.5, 'Actual Values')"
            ]
          },
          "metadata": {},
          "execution_count": 145
        },
        {
          "output_type": "display_data",
          "data": {
            "image/png": "[encoded data removed]",
            "text/plain": [
              "<Figure size 432x288 with 2 Axes>"
            ]
          },
          "metadata": {}
        }
      ]
    },
    {
      "cell_type": "code",
      "metadata": {
        "colab": {
          "base_uri": "https://localhost:8080/"
        },
        "id": "_od14evlWPox",
        "outputId": "f0ff7743-07fb-4ac7-f71e-da37f250fb2e"
      },
      "source": [
        "# Print the report\n",
        "print(classification_report(y_test,y_pred))"
      ],
      "execution_count": null,
      "outputs": [
        {
          "output_type": "stream",
          "name": "stdout",
          "text": [
            "              precision    recall  f1-score   support\n",
            "\n",
            "           0       0.89      0.91      0.90       140\n",
            "           1       0.88      0.86      0.87       110\n",
            "\n",
            "    accuracy                           0.89       250\n",
            "   macro avg       0.89      0.89      0.89       250\n",
            "weighted avg       0.89      0.89      0.89       250\n",
            "\n"
          ]
        }
      ]
    },
    {
      "cell_type": "markdown",
      "metadata": {
        "id": "mP5dMWcpvr7T"
      },
      "source": [
        "#### -- KNN model"
      ]
    },
    {
      "cell_type": "markdown",
      "metadata": {
        "id": "7igTbPii1x9S"
      },
      "source": [
        "##### Standardization and Normalization of the data"
      ]
    },
    {
      "cell_type": "code",
      "metadata": {
        "id": "Wn_RY0kjFrFd"
      },
      "source": [
        "# Using StandardScaler library\n",
        "from sklearn.preprocessing import StandardScaler\n",
        "# define scaler\n",
        "scalar = StandardScaler()"
      ],
      "execution_count": null,
      "outputs": []
    },
    {
      "cell_type": "code",
      "metadata": {
        "colab": {
          "base_uri": "https://localhost:8080/"
        },
        "id": "0AGEwuqwBDKG",
        "outputId": "52f49c1c-1760-4a9a-ea6b-c98cf3e1756f"
      },
      "source": [
        "scalar.fit(X)"
      ],
      "execution_count": null,
      "outputs": [
        {
          "output_type": "execute_result",
          "data": {
            "text/plain": [
              "StandardScaler(copy=True, with_mean=True, with_std=True)"
            ]
          },
          "metadata": {},
          "execution_count": 183
        }
      ]
    },
    {
      "cell_type": "code",
      "metadata": {
        "colab": {
          "base_uri": "https://localhost:8080/",
          "height": 206
        },
        "id": "-f-ehmACEEk8",
        "outputId": "722237c9-c2e4-413e-c9d7-305c6dab0731"
      },
      "source": [
        "#transform data\n",
        "scaled_features = scalar.transform(X)\n",
        "std_data = pd.DataFrame(scaled_features,columns=X.columns)\n",
        "std_data.head()\n"
      ],
      "execution_count": null,
      "outputs": [
        {
          "output_type": "execute_result",
          "data": {
            "text/html": [
              "<div>\n",
              "<style scoped>\n",
              "    .dataframe tbody tr th:only-of-type {\n",
              "        vertical-align: middle;\n",
              "    }\n",
              "\n",
              "    .dataframe tbody tr th {\n",
              "        vertical-align: top;\n",
              "    }\n",
              "\n",
              "    .dataframe thead th {\n",
              "        text-align: right;\n",
              "    }\n",
              "</style>\n",
              "<table border=\"1\" class=\"dataframe\">\n",
              "  <thead>\n",
              "    <tr style=\"text-align: right;\">\n",
              "      <th></th>\n",
              "      <th>Daily Time Spent on Site</th>\n",
              "      <th>Age</th>\n",
              "      <th>Area Income</th>\n",
              "      <th>Daily Internet Usage</th>\n",
              "    </tr>\n",
              "  </thead>\n",
              "  <tbody>\n",
              "    <tr>\n",
              "      <th>0</th>\n",
              "      <td>0.249267</td>\n",
              "      <td>-0.114905</td>\n",
              "      <td>0.509691</td>\n",
              "      <td>1.734030</td>\n",
              "    </tr>\n",
              "    <tr>\n",
              "      <th>1</th>\n",
              "      <td>0.961132</td>\n",
              "      <td>-0.570425</td>\n",
              "      <td>1.002530</td>\n",
              "      <td>0.313805</td>\n",
              "    </tr>\n",
              "    <tr>\n",
              "      <th>2</th>\n",
              "      <td>0.282083</td>\n",
              "      <td>-1.139826</td>\n",
              "      <td>0.356949</td>\n",
              "      <td>1.287589</td>\n",
              "    </tr>\n",
              "    <tr>\n",
              "      <th>3</th>\n",
              "      <td>0.577432</td>\n",
              "      <td>-0.798185</td>\n",
              "      <td>-0.014456</td>\n",
              "      <td>1.501580</td>\n",
              "    </tr>\n",
              "    <tr>\n",
              "      <th>4</th>\n",
              "      <td>0.212664</td>\n",
              "      <td>-0.114905</td>\n",
              "      <td>1.408868</td>\n",
              "      <td>1.038731</td>\n",
              "    </tr>\n",
              "  </tbody>\n",
              "</table>\n",
              "</div>"
            ],
            "text/plain": [
              "   Daily Time Spent on Site       Age  Area Income  Daily Internet Usage\n",
              "0                  0.249267 -0.114905     0.509691              1.734030\n",
              "1                  0.961132 -0.570425     1.002530              0.313805\n",
              "2                  0.282083 -1.139826     0.356949              1.287589\n",
              "3                  0.577432 -0.798185    -0.014456              1.501580\n",
              "4                  0.212664 -0.114905     1.408868              1.038731"
            ]
          },
          "metadata": {},
          "execution_count": 184
        }
      ]
    },
    {
      "cell_type": "markdown",
      "metadata": {
        "id": "tsSGORan9jun"
      },
      "source": [
        "##### Fitting the model of the data"
      ]
    },
    {
      "cell_type": "code",
      "metadata": {
        "id": "LfkIUgQeLLD9",
        "colab": {
          "base_uri": "https://localhost:8080/"
        },
        "outputId": "3ef5ef01-0f7e-4123-ba3a-75dcb6e4e17a"
      },
      "source": [
        "#fitting the model\n",
        "from sklearn.model_selection import train_test_split\n",
        "X_train, X_test, y_train, y_test = train_test_split(X,adv_df['Clicked on Ad'])\n",
        "X_train.shape, X_test.shape, y_train.shape, y_test.shape\n"
      ],
      "execution_count": null,
      "outputs": [
        {
          "output_type": "execute_result",
          "data": {
            "text/plain": [
              "((750, 4), (250, 4), (750,), (250,))"
            ]
          },
          "metadata": {},
          "execution_count": 185
        }
      ]
    },
    {
      "cell_type": "code",
      "metadata": {
        "id": "3e2ukuYXL2Y_"
      },
      "source": [
        "# Import KNeighborsClassifier frrom sklearn's neighbors module\n",
        "from sklearn.neighbors import KNeighborsClassifier\n",
        "# Create an instance of KNeighborsClassifier \n",
        "knn = KNeighborsClassifier(n_neighbors=1)\n",
        "\n"
      ],
      "execution_count": null,
      "outputs": []
    },
    {
      "cell_type": "code",
      "metadata": {
        "colab": {
          "base_uri": "https://localhost:8080/"
        },
        "id": "TLWPGmo9Az5x",
        "outputId": "eb4b339f-f406-465e-8dcc-e3cbe1fd3d6c"
      },
      "source": [
        "# Fit the KNeighborsClassifier to the training data\n",
        "knn.fit(X_train, y_train)"
      ],
      "execution_count": null,
      "outputs": [
        {
          "output_type": "execute_result",
          "data": {
            "text/plain": [
              "KNeighborsClassifier(algorithm='auto', leaf_size=30, metric='minkowski',\n",
              "                     metric_params=None, n_jobs=None, n_neighbors=1, p=2,\n",
              "                     weights='uniform')"
            ]
          },
          "metadata": {},
          "execution_count": 187
        }
      ]
    },
    {
      "cell_type": "code",
      "metadata": {
        "id": "hCLK3tQ7L6b4"
      },
      "source": [
        "# Use the fitted model to make predictions on the test data\n",
        "\n",
        "y_predict = knn.predict(X_test)\n"
      ],
      "execution_count": null,
      "outputs": []
    },
    {
      "cell_type": "code",
      "metadata": {
        "id": "J8IA8RmmMUl5",
        "colab": {
          "base_uri": "https://localhost:8080/"
        },
        "outputId": "2baaa000-677d-4786-cede-6dddd984d6ba"
      },
      "source": [
        "# Actual test values \n",
        "y_test.values[0:10]\n"
      ],
      "execution_count": null,
      "outputs": [
        {
          "output_type": "execute_result",
          "data": {
            "text/plain": [
              "array([1, 0, 0, 0, 1, 0, 0, 1, 0, 0])"
            ]
          },
          "metadata": {},
          "execution_count": 189
        }
      ]
    },
    {
      "cell_type": "code",
      "metadata": {
        "colab": {
          "base_uri": "https://localhost:8080/"
        },
        "id": "fQZR7eL5B2Mz",
        "outputId": "beb4151c-4911-4650-8330-bff9d90fbfba"
      },
      "source": [
        "# prediction on test data\n",
        "y_predict[0:10]"
      ],
      "execution_count": null,
      "outputs": [
        {
          "output_type": "execute_result",
          "data": {
            "text/plain": [
              "array([1, 0, 0, 0, 1, 1, 0, 1, 0, 0])"
            ]
          },
          "metadata": {},
          "execution_count": 190
        }
      ]
    },
    {
      "cell_type": "code",
      "metadata": {
        "id": "XfhsndciMxhc",
        "colab": {
          "base_uri": "https://localhost:8080/"
        },
        "outputId": "b6a5d7a0-7d05-48dc-c02a-51c010fcd853"
      },
      "source": [
        "#print the score of the model\n",
        "knn.score(X_test,y_test)"
      ],
      "execution_count": null,
      "outputs": [
        {
          "output_type": "execute_result",
          "data": {
            "text/plain": [
              "0.808"
            ]
          },
          "metadata": {},
          "execution_count": 191
        }
      ]
    },
    {
      "cell_type": "code",
      "metadata": {
        "colab": {
          "base_uri": "https://localhost:8080/"
        },
        "id": "2VPqMPS1C6ov",
        "outputId": "3a2a1d35-0d4a-4ef8-fa96-291d4fc0a97b"
      },
      "source": [
        "# Fit the test labels and predictions into confusion_matrix\n",
        "from sklearn.metrics import confusion_matrix,classification_report\n",
        "confusion_matrix(y_test,y_predict)"
      ],
      "execution_count": null,
      "outputs": [
        {
          "output_type": "execute_result",
          "data": {
            "text/plain": [
              "array([[ 98,  27],\n",
              "       [ 21, 104]])"
            ]
          },
          "metadata": {},
          "execution_count": 192
        }
      ]
    },
    {
      "cell_type": "code",
      "metadata": {
        "id": "1JZ3iJOxNHKH",
        "colab": {
          "base_uri": "https://localhost:8080/"
        },
        "outputId": "6d40b004-845b-403d-c3d3-18be15e28690"
      },
      "source": [
        "from sklearn.metrics import accuracy_score\n",
        "accuracy_score(y_test,y_predict)"
      ],
      "execution_count": null,
      "outputs": [
        {
          "output_type": "execute_result",
          "data": {
            "text/plain": [
              "0.808"
            ]
          },
          "metadata": {},
          "execution_count": 193
        }
      ]
    },
    {
      "cell_type": "code",
      "metadata": {
        "id": "O5P7VKWESJaf",
        "colab": {
          "base_uri": "https://localhost:8080/",
          "height": 298
        },
        "outputId": "beb3a6e4-a184-4e82-8eed-39b8dec4d976"
      },
      "source": [
        "#ploting the confusion matrix\n",
        "sns.heatmap(confusion_matrix(y_test, y_predict), annot=True, fmt='.0f', cmap = 'Blues')\n",
        "plt.xlabel('Predicted Values')\n",
        "plt.ylabel('Actual Values')\n",
        "\n"
      ],
      "execution_count": null,
      "outputs": [
        {
          "output_type": "execute_result",
          "data": {
            "text/plain": [
              "Text(33.0, 0.5, 'Actual Values')"
            ]
          },
          "metadata": {},
          "execution_count": 194
        },
        {
          "output_type": "display_data",
          "data": {
            "image/png": "[encoded data removed]",
            "text/plain": [
              "<Figure size 432x288 with 2 Axes>"
            ]
          },
          "metadata": {}
        }
      ]
    },
    {
      "cell_type": "code",
      "metadata": {
        "colab": {
          "base_uri": "https://localhost:8080/"
        },
        "id": "PlyrCdmsD4wj",
        "outputId": "d81ae368-7d6a-40bd-8574-74769586de49"
      },
      "source": [
        "# Print the report\n",
        "print(classification_report(y_test,y_predict))"
      ],
      "execution_count": null,
      "outputs": [
        {
          "output_type": "stream",
          "name": "stdout",
          "text": [
            "              precision    recall  f1-score   support\n",
            "\n",
            "           0       0.82      0.78      0.80       125\n",
            "           1       0.79      0.83      0.81       125\n",
            "\n",
            "    accuracy                           0.81       250\n",
            "   macro avg       0.81      0.81      0.81       250\n",
            "weighted avg       0.81      0.81      0.81       250\n",
            "\n"
          ]
        }
      ]
    },
    {
      "cell_type": "markdown",
      "metadata": {
        "id": "EovAqIxJSPCR"
      },
      "source": [
        "-- KNN value and Accuracy"
      ]
    },
    {
      "cell_type": "code",
      "metadata": {
        "id": "UxDYrgO8KgMT"
      },
      "source": [
        "from sklearn import metrics\n",
        "score = []"
      ],
      "execution_count": null,
      "outputs": []
    },
    {
      "cell_type": "code",
      "metadata": {
        "id": "hubawaMKS4Zt"
      },
      "source": [
        "# Calculate score for K values between 1 and 25\n",
        "for i in range(1,25):\n",
        "  knn= KNeighborsClassifier(n_neighbors=i)\n",
        "  knn.fit(X_train,y_train)\n",
        "  y_predict = knn.predict(X_test)\n",
        "  score.append(metrics.accuracy_score(y_test,y_predict))\n",
        "\n"
      ],
      "execution_count": null,
      "outputs": []
    },
    {
      "cell_type": "code",
      "metadata": {
        "id": "Hz0c9sgIS-IA",
        "colab": {
          "base_uri": "https://localhost:8080/"
        },
        "outputId": "208a46f4-e654-45ca-932a-98ee387ab4c9"
      },
      "source": [
        "print(score)"
      ],
      "execution_count": null,
      "outputs": [
        {
          "output_type": "stream",
          "name": "stdout",
          "text": [
            "[0.808, 0.752, 0.748, 0.728, 0.732, 0.736, 0.748, 0.736, 0.74, 0.74, 0.744, 0.752, 0.744, 0.752, 0.74, 0.744, 0.74, 0.752, 0.752, 0.752, 0.756, 0.756, 0.76, 0.756]\n"
          ]
        }
      ]
    },
    {
      "cell_type": "code",
      "metadata": {
        "id": "4LQW_tOLTZ-l"
      },
      "source": [
        "# Calculate error rate for K values between 1 and 25\n",
        "error_rate = []\n",
        "for i in range(1,50):\n",
        "  knn= KNeighborsClassifier(n_neighbors=i)\n",
        "  knn.fit(X_train,y_train)\n",
        "  pred_i = knn.predict(X_test)\n",
        "  error_rate.append(np.mean(pred_i !=y_test))\n"
      ],
      "execution_count": null,
      "outputs": []
    },
    {
      "cell_type": "code",
      "metadata": {
        "id": "E-AEGiNRTj1N",
        "colab": {
          "base_uri": "https://localhost:8080/",
          "height": 516
        },
        "outputId": "d54b468d-a65a-40f4-b493-65b981c810b2"
      },
      "source": [
        "#plot k value vs mean error to visualize the relationship between error rate and k value\n",
        "plt.figure(figsize=(10,8))\n",
        "plt.plot(range(1,50), error_rate, color='red', linestyle='dashed', marker='o', markerfacecolor='blue', markersize =10)\n",
        "plt.xlabel('K values')\n",
        "plt.ylabel('Error rate'), "
      ],
      "execution_count": null,
      "outputs": [
        {
          "output_type": "execute_result",
          "data": {
            "text/plain": [
              "(Text(0, 0.5, 'Error rate'),)"
            ]
          },
          "metadata": {},
          "execution_count": 200
        },
        {
          "output_type": "display_data",
          "data": {
            "image/png": "[encoded data removed]",
            "text/plain": [
              "<Figure size 720x576 with 1 Axes>"
            ]
          },
          "metadata": {}
        }
      ]
    },
    {
      "cell_type": "markdown",
      "metadata": {
        "id": "VovSZfB_bew8"
      },
      "source": [
        "#### Conclusion\n",
        " According to the result from the above: \n",
        " - Logistic regression model has  score on f1-score .90 and .87. It means that the model makes good prediction at 90% that people will not clique on Ads and at 87% that they will. \n",
        " \n",
        "- KNN model achieves maximum accuracy with a minimum error rate at k = 1.\n",
        "- KNN model makes 80% of good prediction with K =1.\n",
        "\n",
        "- Of the two, Logistic regression model is the most efficient approach.  "
      ]
    }
  ]
}