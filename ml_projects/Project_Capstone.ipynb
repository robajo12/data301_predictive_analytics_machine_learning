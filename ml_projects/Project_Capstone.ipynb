{
  "nbformat": 4,
  "nbformat_minor": 0,
  "metadata": {
    "colab": {
      "name": "Project_Capstone.ipynb",
      "provenance": [],
      "collapsed_sections": [],
      "toc_visible": true,
      "authorship_tag": "ABX9TyMCBR9kZk+BfyLC7TA8NpGh",
      "include_colab_link": true
    },
    "kernelspec": {
      "name": "python3",
      "display_name": "Python 3"
    },
    "language_info": {
      "name": "python"
    }
  },
  "cells": [
    {
      "cell_type": "markdown",
      "metadata": {
        "id": "view-in-github",
        "colab_type": "text"
      },
      "source": [
        "<a href=\"https://colab.research.google.com/github/robajo12/data301_predictive_analytics_machine_learning/blob/main/ml_projects/Project_Capstone.ipynb\" target=\"_parent\"><img src=\"https://colab.research.google.com/assets/colab-badge.svg\" alt=\"Open In Colab\"/></a>"
      ]
    },
    {
      "cell_type": "markdown",
      "source": [
        "### Data Background \n",
        "- Research questions:\n",
        "\n",
        "\n",
        "1/ Among the various Amazon Alexa products, which ones the customes like the most?\n",
        "\n",
        "2/ what the customers like about the devices?\n",
        "\n",
        "3/ what are the most common words used by the customers in reviews?\n",
        "\n",
        "\n",
        "plt.figure(figsize=(40,8))\n",
        "sns.countplot(\"variation\", hue=\"feedback\", data=data)\n",
        "\n",
        "sns.countplot(df_alexa['feedback'], label = 'Count');\n",
        "\n",
        "total = len(df_alexa)\n",
        "\n",
        "\n",
        "g = sns.countplot(x='rating', data=df_alexa)\n",
        "g.set_title(\"Evaluation\", fontsize=20)\n",
        "g.set_xlabel(\"Evaluation\", fontsize=17)\n",
        "g.set_ylabel(\"Values\", fontsize=17)\n",
        "\n",
        "df_alexa['rating'].hist(bins = 5);\n",
        "\n",
        "total = len(df_alexa)\n",
        "ax1 = plt.figure(figsize=(40,15))\n",
        "\n",
        "g = sns.countplot(x='variation', data=df_alexa)\n",
        "g.set_title(\"Analizing\", fontsize=30)\n",
        "g.set_xlabel(\"Words\", fontsize=30)\n",
        "g.set_ylabel(\"Values\", fontsize=30)\n",
        "plt.xticks(fontsize=20)\n",
        "plt.yticks(fontsize=20)\n",
        "plt.xticks(rotation=35)\n",
        "\n",
        "\n",
        "df.rating.value_counts().to_frame().plot(kind='bar',figsize=(20,10),grid=True)\n",
        "\n",
        "high_rat.variation.value_counts().to_frame().plot(kind='bar',\n",
        "                                                  figsize=(20,10),\n",
        "                                                  grid=True,\n",
        "                                                 title='5 Ratings')\n",
        "\n",
        "\n",
        "\n",
        "\n",
        "\n",
        "sns.countplot(x=\"feedback\", data=data)"
      ],
      "metadata": {
        "id": "4nNoNfRj_SZq"
      }
    },
    {
      "cell_type": "code",
      "source": [
        ""
      ],
      "metadata": {
        "id": "ZMjV423a_djO"
      },
      "execution_count": 1,
      "outputs": []
    },
    {
      "cell_type": "code",
      "source": [
        ""
      ],
      "metadata": {
        "id": "OgGNJUbX_eiC"
      },
      "execution_count": 1,
      "outputs": []
    },
    {
      "cell_type": "code",
      "source": [
        ""
      ],
      "metadata": {
        "id": "05Ne310m_elo"
      },
      "execution_count": 1,
      "outputs": []
    },
    {
      "cell_type": "markdown",
      "source": [
        "### Data Acquisition"
      ],
      "metadata": {
        "id": "M14X3Wt9_fLJ"
      }
    },
    {
      "cell_type": "code",
      "execution_count": 2,
      "metadata": {
        "id": "CU_txmMgcj8K"
      },
      "outputs": [],
      "source": [
        "import pandas as pd\n",
        "import numpy as np\n",
        "import seaborn as sns\n",
        "import matplotlib.pyplot as plt"
      ]
    },
    {
      "cell_type": "code",
      "source": [
        "amz_df = pd.read_csv('https://raw.githubusercontent.com/niteen11/data301_predictive_analytics_machine_learning/main/data/amazon_alexa.tsv', sep='\\t')"
      ],
      "metadata": {
        "id": "rQZJQsH9eCrp"
      },
      "execution_count": 3,
      "outputs": []
    },
    {
      "cell_type": "code",
      "source": [
        "amz_df.head()"
      ],
      "metadata": {
        "colab": {
          "base_uri": "https://localhost:8080/",
          "height": 206
        },
        "id": "yA_5OIzeehmw",
        "outputId": "7f8eb9de-4069-4803-e938-01f6b746caea"
      },
      "execution_count": 4,
      "outputs": [
        {
          "output_type": "execute_result",
          "data": {
            "text/html": [
              "\n",
              "  <div id=\"df-1e783826-1ad5-454e-923b-2feba9361dd1\">\n",
              "    <div class=\"colab-df-container\">\n",
              "      <div>\n",
              "<style scoped>\n",
              "    .dataframe tbody tr th:only-of-type {\n",
              "        vertical-align: middle;\n",
              "    }\n",
              "\n",
              "    .dataframe tbody tr th {\n",
              "        vertical-align: top;\n",
              "    }\n",
              "\n",
              "    .dataframe thead th {\n",
              "        text-align: right;\n",
              "    }\n",
              "</style>\n",
              "<table border=\"1\" class=\"dataframe\">\n",
              "  <thead>\n",
              "    <tr style=\"text-align: right;\">\n",
              "      <th></th>\n",
              "      <th>rating</th>\n",
              "      <th>date</th>\n",
              "      <th>variation</th>\n",
              "      <th>verified_reviews</th>\n",
              "      <th>feedback</th>\n",
              "    </tr>\n",
              "  </thead>\n",
              "  <tbody>\n",
              "    <tr>\n",
              "      <th>0</th>\n",
              "      <td>5</td>\n",
              "      <td>31-Jul-18</td>\n",
              "      <td>Charcoal Fabric</td>\n",
              "      <td>Love my Echo!</td>\n",
              "      <td>1</td>\n",
              "    </tr>\n",
              "    <tr>\n",
              "      <th>1</th>\n",
              "      <td>5</td>\n",
              "      <td>31-Jul-18</td>\n",
              "      <td>Charcoal Fabric</td>\n",
              "      <td>Loved it!</td>\n",
              "      <td>1</td>\n",
              "    </tr>\n",
              "    <tr>\n",
              "      <th>2</th>\n",
              "      <td>4</td>\n",
              "      <td>31-Jul-18</td>\n",
              "      <td>Walnut Finish</td>\n",
              "      <td>Sometimes while playing a game, you can answer...</td>\n",
              "      <td>1</td>\n",
              "    </tr>\n",
              "    <tr>\n",
              "      <th>3</th>\n",
              "      <td>5</td>\n",
              "      <td>31-Jul-18</td>\n",
              "      <td>Charcoal Fabric</td>\n",
              "      <td>I have had a lot of fun with this thing. My 4 ...</td>\n",
              "      <td>1</td>\n",
              "    </tr>\n",
              "    <tr>\n",
              "      <th>4</th>\n",
              "      <td>5</td>\n",
              "      <td>31-Jul-18</td>\n",
              "      <td>Charcoal Fabric</td>\n",
              "      <td>Music</td>\n",
              "      <td>1</td>\n",
              "    </tr>\n",
              "  </tbody>\n",
              "</table>\n",
              "</div>\n",
              "      <button class=\"colab-df-convert\" onclick=\"convertToInteractive('df-1e783826-1ad5-454e-923b-2feba9361dd1')\"\n",
              "              title=\"Convert this dataframe to an interactive table.\"\n",
              "              style=\"display:none;\">\n",
              "        \n",
              "  <svg xmlns=\"http://www.w3.org/2000/svg\" height=\"24px\"viewBox=\"0 0 24 24\"\n",
              "       width=\"24px\">\n",
              "    <path d=\"M0 0h24v24H0V0z\" fill=\"none\"/>\n",
              "    <path d=\"M18.56 5.44l.94 2.06.94-2.06 2.06-.94-2.06-.94-.94-2.06-.94 2.06-2.06.94zm-11 1L8.5 8.5l.94-2.06 2.06-.94-2.06-.94L8.5 2.5l-.94 2.06-2.06.94zm10 10l.94 2.06.94-2.06 2.06-.94-2.06-.94-.94-2.06-.94 2.06-2.06.94z\"/><path d=\"M17.41 7.96l-1.37-1.37c-.4-.4-.92-.59-1.43-.59-.52 0-1.04.2-1.43.59L10.3 9.45l-7.72 7.72c-.78.78-.78 2.05 0 2.83L4 21.41c.39.39.9.59 1.41.59.51 0 1.02-.2 1.41-.59l7.78-7.78 2.81-2.81c.8-.78.8-2.07 0-2.86zM5.41 20L4 18.59l7.72-7.72 1.47 1.35L5.41 20z\"/>\n",
              "  </svg>\n",
              "      </button>\n",
              "      \n",
              "  <style>\n",
              "    .colab-df-container {\n",
              "      display:flex;\n",
              "      flex-wrap:wrap;\n",
              "      gap: 12px;\n",
              "    }\n",
              "\n",
              "    .colab-df-convert {\n",
              "      background-color: #E8F0FE;\n",
              "      border: none;\n",
              "      border-radius: 50%;\n",
              "      cursor: pointer;\n",
              "      display: none;\n",
              "      fill: #1967D2;\n",
              "      height: 32px;\n",
              "      padding: 0 0 0 0;\n",
              "      width: 32px;\n",
              "    }\n",
              "\n",
              "    .colab-df-convert:hover {\n",
              "      background-color: #E2EBFA;\n",
              "      box-shadow: 0px 1px 2px rgba(60, 64, 67, 0.3), 0px 1px 3px 1px rgba(60, 64, 67, 0.15);\n",
              "      fill: #174EA6;\n",
              "    }\n",
              "\n",
              "    [theme=dark] .colab-df-convert {\n",
              "      background-color: #3B4455;\n",
              "      fill: #D2E3FC;\n",
              "    }\n",
              "\n",
              "    [theme=dark] .colab-df-convert:hover {\n",
              "      background-color: #434B5C;\n",
              "      box-shadow: 0px 1px 3px 1px rgba(0, 0, 0, 0.15);\n",
              "      filter: drop-shadow(0px 1px 2px rgba(0, 0, 0, 0.3));\n",
              "      fill: #FFFFFF;\n",
              "    }\n",
              "  </style>\n",
              "\n",
              "      <script>\n",
              "        const buttonEl =\n",
              "          document.querySelector('#df-1e783826-1ad5-454e-923b-2feba9361dd1 button.colab-df-convert');\n",
              "        buttonEl.style.display =\n",
              "          google.colab.kernel.accessAllowed ? 'block' : 'none';\n",
              "\n",
              "        async function convertToInteractive(key) {\n",
              "          const element = document.querySelector('#df-1e783826-1ad5-454e-923b-2feba9361dd1');\n",
              "          const dataTable =\n",
              "            await google.colab.kernel.invokeFunction('convertToInteractive',\n",
              "                                                     [key], {});\n",
              "          if (!dataTable) return;\n",
              "\n",
              "          const docLinkHtml = 'Like what you see? Visit the ' +\n",
              "            '<a target=\"_blank\" href=https://colab.research.google.com/notebooks/data_table.ipynb>data table notebook</a>'\n",
              "            + ' to learn more about interactive tables.';\n",
              "          element.innerHTML = '';\n",
              "          dataTable['output_type'] = 'display_data';\n",
              "          await google.colab.output.renderOutput(dataTable, element);\n",
              "          const docLink = document.createElement('div');\n",
              "          docLink.innerHTML = docLinkHtml;\n",
              "          element.appendChild(docLink);\n",
              "        }\n",
              "      </script>\n",
              "    </div>\n",
              "  </div>\n",
              "  "
            ],
            "text/plain": [
              "   rating  ... feedback\n",
              "0       5  ...        1\n",
              "1       5  ...        1\n",
              "2       4  ...        1\n",
              "3       5  ...        1\n",
              "4       5  ...        1\n",
              "\n",
              "[5 rows x 5 columns]"
            ]
          },
          "metadata": {},
          "execution_count": 4
        }
      ]
    },
    {
      "cell_type": "markdown",
      "source": [
        "### Data Wrangling"
      ],
      "metadata": {
        "id": "afhNmf2-_wKV"
      }
    },
    {
      "cell_type": "code",
      "source": [
        "amz_df.shape"
      ],
      "metadata": {
        "id": "VC7iPvNxhqrZ",
        "outputId": "d0baca11-b47c-4b41-9fcf-82c00e7e4bb9",
        "colab": {
          "base_uri": "https://localhost:8080/"
        }
      },
      "execution_count": 5,
      "outputs": [
        {
          "output_type": "execute_result",
          "data": {
            "text/plain": [
              "(3150, 5)"
            ]
          },
          "metadata": {},
          "execution_count": 5
        }
      ]
    },
    {
      "cell_type": "code",
      "source": [
        "#show the missing data number\n",
        "amz_df.isnull().sum()"
      ],
      "metadata": {
        "id": "IyvSTcFSic-w",
        "outputId": "0dc4e27a-8699-4b0f-a33e-f12c5d3aadea",
        "colab": {
          "base_uri": "https://localhost:8080/"
        }
      },
      "execution_count": 6,
      "outputs": [
        {
          "output_type": "execute_result",
          "data": {
            "text/plain": [
              "rating              0\n",
              "date                0\n",
              "variation           0\n",
              "verified_reviews    0\n",
              "feedback            0\n",
              "dtype: int64"
            ]
          },
          "metadata": {},
          "execution_count": 6
        }
      ]
    },
    {
      "cell_type": "code",
      "source": [
        "amz_df.columns"
      ],
      "metadata": {
        "colab": {
          "base_uri": "https://localhost:8080/"
        },
        "id": "0rbg4rf1CkHm",
        "outputId": "908a7fa5-bf4b-4f1c-f50e-10a313cf857b"
      },
      "execution_count": 7,
      "outputs": [
        {
          "output_type": "execute_result",
          "data": {
            "text/plain": [
              "Index(['rating', 'date', 'variation', 'verified_reviews', 'feedback'], dtype='object')"
            ]
          },
          "metadata": {},
          "execution_count": 7
        }
      ]
    },
    {
      "cell_type": "code",
      "source": [
        "amz_df.nunique()"
      ],
      "metadata": {
        "colab": {
          "base_uri": "https://localhost:8080/"
        },
        "id": "kjhQOzGXH96G",
        "outputId": "cfaf4ac9-6c32-4a50-b4a7-a28584a407be"
      },
      "execution_count": 8,
      "outputs": [
        {
          "output_type": "execute_result",
          "data": {
            "text/plain": [
              "rating                 5\n",
              "date                  77\n",
              "variation             16\n",
              "verified_reviews    2301\n",
              "feedback               2\n",
              "dtype: int64"
            ]
          },
          "metadata": {},
          "execution_count": 8
        }
      ]
    },
    {
      "cell_type": "code",
      "source": [
        "amz_df['variation'].unique()"
      ],
      "metadata": {
        "colab": {
          "base_uri": "https://localhost:8080/"
        },
        "id": "3yY6jGd0ETEM",
        "outputId": "4c246e52-a4c8-4062-a86e-cf2c0041a806"
      },
      "execution_count": 9,
      "outputs": [
        {
          "output_type": "execute_result",
          "data": {
            "text/plain": [
              "array(['Charcoal Fabric ', 'Walnut Finish ', 'Heather Gray Fabric ',\n",
              "       'Sandstone Fabric ', 'Oak Finish ', 'Black', 'White',\n",
              "       'Black  Spot', 'White  Spot', 'Black  Show', 'White  Show',\n",
              "       'Black  Plus', 'White  Plus', 'Configuration: Fire TV Stick',\n",
              "       'Black  Dot', 'White  Dot'], dtype=object)"
            ]
          },
          "metadata": {},
          "execution_count": 9
        }
      ]
    },
    {
      "cell_type": "code",
      "source": [
        ""
      ],
      "metadata": {
        "colab": {
          "base_uri": "https://localhost:8080/"
        },
        "id": "Lbh3bOCGEYeA",
        "outputId": "d6ed2a80-92c9-4abb-a3c1-31ac5b4df66f"
      },
      "execution_count": 11,
      "outputs": [
        {
          "output_type": "execute_result",
          "data": {
            "text/plain": [
              "variation\n",
              "Black                           261\n",
              "Black  Dot                      516\n",
              "Black  Plus                     270\n",
              "Black  Show                     265\n",
              "Black  Spot                     241\n",
              "Charcoal Fabric                 430\n",
              "Configuration: Fire TV Stick    350\n",
              "Heather Gray Fabric             157\n",
              "Oak Finish                       14\n",
              "Sandstone Fabric                 90\n",
              "Walnut Finish                     9\n",
              "White                            91\n",
              "White  Dot                      184\n",
              "White  Plus                      78\n",
              "White  Show                      85\n",
              "White  Spot                     109\n",
              "Name: rating, dtype: int64"
            ]
          },
          "metadata": {},
          "execution_count": 11
        }
      ]
    },
    {
      "cell_type": "code",
      "source": [
        ""
      ],
      "metadata": {
        "colab": {
          "base_uri": "https://localhost:8080/"
        },
        "id": "BeQWm423E7a6",
        "outputId": "eb2199f9-19c5-4e54-ed03-924c9e19c000"
      },
      "execution_count": 15,
      "outputs": [
        {
          "output_type": "execute_result",
          "data": {
            "text/plain": [
              "variation\n",
              "Black                           261\n",
              "Black  Dot                      516\n",
              "Black  Plus                     270\n",
              "Black  Show                     265\n",
              "Black  Spot                     241\n",
              "Charcoal Fabric                 430\n",
              "Configuration: Fire TV Stick    350\n",
              "Heather Gray Fabric             157\n",
              "Oak Finish                       14\n",
              "Sandstone Fabric                 90\n",
              "Walnut Finish                     9\n",
              "White                            91\n",
              "White  Dot                      184\n",
              "White  Plus                      78\n",
              "White  Show                      85\n",
              "White  Spot                     109\n",
              "Name: date, dtype: int64"
            ]
          },
          "metadata": {},
          "execution_count": 15
        }
      ]
    },
    {
      "cell_type": "code",
      "source": [
        "amz_df['variation'].value_counts()"
      ],
      "metadata": {
        "colab": {
          "base_uri": "https://localhost:8080/"
        },
        "id": "_nUftSD7ODwI",
        "outputId": "d6d8be43-6bde-4356-8108-6b027ca74c32"
      },
      "execution_count": 13,
      "outputs": [
        {
          "output_type": "execute_result",
          "data": {
            "text/plain": [
              "Black  Dot                      516\n",
              "Charcoal Fabric                 430\n",
              "Configuration: Fire TV Stick    350\n",
              "Black  Plus                     270\n",
              "Black  Show                     265\n",
              "Black                           261\n",
              "Black  Spot                     241\n",
              "White  Dot                      184\n",
              "Heather Gray Fabric             157\n",
              "White  Spot                     109\n",
              "White                            91\n",
              "Sandstone Fabric                 90\n",
              "White  Show                      85\n",
              "White  Plus                      78\n",
              "Oak Finish                       14\n",
              "Walnut Finish                     9\n",
              "Name: variation, dtype: int64"
            ]
          },
          "metadata": {},
          "execution_count": 13
        }
      ]
    },
    {
      "cell_type": "code",
      "source": [
        "amz_df['rating'].value_counts()"
      ],
      "metadata": {
        "colab": {
          "base_uri": "https://localhost:8080/"
        },
        "id": "ShSgo7mWRVlU",
        "outputId": "722fc1e5-6957-4de3-94ec-c68d40dde22e"
      },
      "execution_count": 16,
      "outputs": [
        {
          "output_type": "execute_result",
          "data": {
            "text/plain": [
              "5    2286\n",
              "4     455\n",
              "1     161\n",
              "3     152\n",
              "2      96\n",
              "Name: rating, dtype: int64"
            ]
          },
          "metadata": {},
          "execution_count": 16
        }
      ]
    },
    {
      "cell_type": "code",
      "source": [
        "amz_df['date'].value_counts()"
      ],
      "metadata": {
        "id": "nyyHL0BMGZ8q"
      },
      "execution_count": null,
      "outputs": []
    },
    {
      "cell_type": "code",
      "source": [
        "amz_df['feedback'].value_counts()"
      ],
      "metadata": {
        "id": "HuAkJ3GzULe9"
      },
      "execution_count": null,
      "outputs": []
    },
    {
      "cell_type": "code",
      "source": [
        "cm=amz_df.drop(['verified_reviews'], axis=1)\n",
        "cm.head()"
      ],
      "metadata": {
        "id": "E6pxRvOyWo6P"
      },
      "execution_count": null,
      "outputs": []
    },
    {
      "cell_type": "code",
      "source": [
        "!pip install category_encoders"
      ],
      "metadata": {
        "id": "7zhMCVXPdnBp"
      },
      "execution_count": null,
      "outputs": []
    },
    {
      "cell_type": "code",
      "source": [
        "import category_encoders as cten"
      ],
      "metadata": {
        "id": "S_HlMJ-BknxJ"
      },
      "execution_count": null,
      "outputs": []
    },
    {
      "cell_type": "code",
      "source": [
        "cm_feature_names = ['rating', 'date', 'variation', 'feedback']\n",
        "encoded_data = cten.OrdinalEncoder(cols=cm_feature_names)"
      ],
      "metadata": {
        "id": "eKs1AhE_nLZ8"
      },
      "execution_count": null,
      "outputs": []
    },
    {
      "cell_type": "code",
      "source": [
        "enc_data_df = encoded_data.fit_transform(cm)"
      ],
      "metadata": {
        "id": "mwuECZb5naGw"
      },
      "execution_count": null,
      "outputs": []
    },
    {
      "cell_type": "code",
      "source": [
        "enc_data_df.head()"
      ],
      "metadata": {
        "id": "PQhJ2T80nrqz"
      },
      "execution_count": null,
      "outputs": []
    },
    {
      "cell_type": "code",
      "source": [
        "#relationships analysis\n",
        "fig, axe = plt.subplots()\n",
        "fig.set_size_inches(11,7)\n",
        "sns.heatmap(enc_data_df.corr(),ax=axe,fmt='.2f', annot=True )"
      ],
      "metadata": {
        "id": "CAlmAM02VhcM"
      },
      "execution_count": null,
      "outputs": []
    },
    {
      "cell_type": "code",
      "source": [
        "amz_df['verified_reviews'][0]"
      ],
      "metadata": {
        "id": "bUKr7jk_ejAj"
      },
      "execution_count": null,
      "outputs": []
    },
    {
      "cell_type": "code",
      "source": [
        "max(amz_df['verified_reviews'].apply(len))"
      ],
      "metadata": {
        "id": "ynkbRn17e9DF"
      },
      "execution_count": null,
      "outputs": []
    },
    {
      "cell_type": "code",
      "source": [
        "long_msg= amz_df[amz_df['verified_reviews'].apply(len)==2851]\n",
        "long_msg.verified_reviews"
      ],
      "metadata": {
        "id": "i2ayei8xf0GH"
      },
      "execution_count": null,
      "outputs": []
    },
    {
      "cell_type": "code",
      "source": [
        "long_msg.verified_reviews.iloc[0]"
      ],
      "metadata": {
        "id": "YhdlcSAngByV"
      },
      "execution_count": null,
      "outputs": []
    },
    {
      "cell_type": "code",
      "source": [
        "import string"
      ],
      "metadata": {
        "id": "3c0NN6cYhIQ7"
      },
      "execution_count": null,
      "outputs": []
    },
    {
      "cell_type": "code",
      "source": [
        "import nltk\n",
        "nltk.download('stopwords')"
      ],
      "metadata": {
        "id": "IrNwUdyflbkP"
      },
      "execution_count": null,
      "outputs": []
    },
    {
      "cell_type": "code",
      "source": [
        "from nltk.corpus import stopwords"
      ],
      "metadata": {
        "id": "SuiLkO1Ildo3"
      },
      "execution_count": null,
      "outputs": []
    },
    {
      "cell_type": "code",
      "source": [
        "stopwords.words('english')[0:15]"
      ],
      "metadata": {
        "id": "vBkbMljel092"
      },
      "execution_count": null,
      "outputs": []
    },
    {
      "cell_type": "markdown",
      "source": [
        "# Function \n",
        "### To Automate the text data pre processing part"
      ],
      "metadata": {
        "id": "v5GNbfOImOwT"
      }
    },
    {
      "cell_type": "code",
      "source": [
        "\n",
        "def review_text_pre_process(text_review):\n",
        "  remove_punct = [char for char in text_review if char not in string.punctuation]\n",
        "  remove_punct = ''.join(remove_punct)\n",
        "  remove_stopwords = [word for word in remove_punct.split() if word.lower() not in stopwords.words('english')]\n",
        "  return remove_stopwords"
      ],
      "metadata": {
        "id": "VufFdIzjlMLO"
      },
      "execution_count": null,
      "outputs": []
    },
    {
      "cell_type": "code",
      "source": [
        "amz_df['verified_reviews'].head(10).apply(review_text_pre_process)"
      ],
      "metadata": {
        "id": "3uvlA1wZnVEB"
      },
      "execution_count": null,
      "outputs": []
    },
    {
      "cell_type": "code",
      "source": [
        "amz_df.head()"
      ],
      "metadata": {
        "id": "aJ9_xAOvou_m"
      },
      "execution_count": null,
      "outputs": []
    },
    {
      "cell_type": "code",
      "source": [
        ""
      ],
      "metadata": {
        "id": "S_WQmXm5_4K0"
      },
      "execution_count": null,
      "outputs": []
    },
    {
      "cell_type": "code",
      "source": [
        ""
      ],
      "metadata": {
        "id": "TnaL6Mj3_4XE"
      },
      "execution_count": null,
      "outputs": []
    },
    {
      "cell_type": "markdown",
      "source": [
        "### EDA (Exploratory Data Analysis)"
      ],
      "metadata": {
        "id": "UcmDcvum_4wA"
      }
    },
    {
      "cell_type": "code",
      "source": [
        ""
      ],
      "metadata": {
        "id": "kZtOHKJGAF7U"
      },
      "execution_count": null,
      "outputs": []
    },
    {
      "cell_type": "code",
      "source": [
        ""
      ],
      "metadata": {
        "id": "aQxPC_hSAGBU"
      },
      "execution_count": null,
      "outputs": []
    },
    {
      "cell_type": "code",
      "source": [
        ""
      ],
      "metadata": {
        "id": "Oh--ThwtAGFZ"
      },
      "execution_count": null,
      "outputs": []
    },
    {
      "cell_type": "markdown",
      "source": [
        "### ML Model"
      ],
      "metadata": {
        "id": "9PkuhgeDAGx4"
      }
    },
    {
      "cell_type": "code",
      "source": [
        ""
      ],
      "metadata": {
        "id": "sb0UVOUqAO1N"
      },
      "execution_count": null,
      "outputs": []
    },
    {
      "cell_type": "code",
      "source": [
        ""
      ],
      "metadata": {
        "id": "5DQp_chXAO4S"
      },
      "execution_count": null,
      "outputs": []
    },
    {
      "cell_type": "code",
      "source": [
        ""
      ],
      "metadata": {
        "id": "BQ00ES77AO62"
      },
      "execution_count": null,
      "outputs": []
    },
    {
      "cell_type": "code",
      "source": [
        ""
      ],
      "metadata": {
        "id": "7aDj3YV6AO92"
      },
      "execution_count": null,
      "outputs": []
    },
    {
      "cell_type": "code",
      "source": [
        ""
      ],
      "metadata": {
        "id": "9n4sv18rAPAv"
      },
      "execution_count": null,
      "outputs": []
    },
    {
      "cell_type": "markdown",
      "source": [
        "### Conclusion"
      ],
      "metadata": {
        "id": "frC9VEdWAP3q"
      }
    }
  ]
}